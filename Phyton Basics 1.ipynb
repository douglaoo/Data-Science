{
 "cells": [
  {
   "cell_type": "markdown",
   "id": "4cf21c2b",
   "metadata": {},
   "source": [
    "# Phyton para DataScience - Pandas"
   ]
  },
  {
   "cell_type": "markdown",
   "id": "83f9f3b2",
   "metadata": {},
   "source": [
    "#  1 - Introdução ao Phyton "
   ]
  },
  {
   "cell_type": "markdown",
   "id": "752d6f70",
   "metadata": {},
   "source": [
    "# 1.1 Introdução "
   ]
  },
  {
   "cell_type": "markdown",
   "id": "b7a94eae",
   "metadata": {},
   "source": [
    "Python é uma linguagem de programação de alto nível com suporte a múltiplos paradigmas de programação. É um projeto open source e desde seu surgimento, em 1991, vem se tornando uma das linguagens de programação interpretadas mais populares.\n",
    "\n",
    "Nos últimos anos Python desenvolveu uma comunidade ativa de processamento científico e análise de dados e vem se destacando como uma das linguagens mais relevantes quando o assundo é ciência de dados e machine learning, tanto no ambiente acadêmico como também no mercado"
   ]
  },
  {
   "cell_type": "markdown",
   "id": "ddfa3b1a",
   "metadata": {},
   "source": [
    "# 1.2 Instalação e ambiente de desenvolvimento "
   ]
  },
  {
   "cell_type": "markdown",
   "id": "df8800a8",
   "metadata": {},
   "source": [
    "## Instalação local "
   ]
  },
  {
   "cell_type": "markdown",
   "id": "f5a8a4d1",
   "metadata": {},
   "source": [
    "## https://www.python.org/downloads/"
   ]
  },
  {
   "cell_type": "markdown",
   "id": "9f3f45ad",
   "metadata": {},
   "source": [
    "## ou"
   ]
  },
  {
   "cell_type": "markdown",
   "id": "0434d713",
   "metadata": {},
   "source": [
    "## https://www.anaconda.com/distribution/"
   ]
  },
  {
   "cell_type": "markdown",
   "id": "4f6bf2f8",
   "metadata": {},
   "source": [
    "## Google Colaboratory\n"
   ]
  },
  {
   "cell_type": "markdown",
   "id": "da98c034",
   "metadata": {},
   "source": [
    "## https://colab.research.google.com/"
   ]
  },
  {
   "cell_type": "markdown",
   "id": "37a5dea6",
   "metadata": {},
   "source": [
    "# 1.3 Trabalhando com dados "
   ]
  },
  {
   "cell_type": "code",
   "execution_count": 160,
   "id": "5ad08b26",
   "metadata": {},
   "outputs": [],
   "source": [
    "import pandas as pd\n",
    "\n",
    "# importando a biblioteca pandas para utilizar no notebook \n"
   ]
  },
  {
   "cell_type": "code",
   "execution_count": 161,
   "id": "98da33b1",
   "metadata": {},
   "outputs": [
    {
     "data": {
      "text/html": [
       "<div>\n",
       "<style scoped>\n",
       "    .dataframe tbody tr th:only-of-type {\n",
       "        vertical-align: middle;\n",
       "    }\n",
       "\n",
       "    .dataframe tbody tr th {\n",
       "        vertical-align: top;\n",
       "    }\n",
       "\n",
       "    .dataframe thead th {\n",
       "        text-align: right;\n",
       "    }\n",
       "</style>\n",
       "<table border=\"1\" class=\"dataframe\">\n",
       "  <thead>\n",
       "    <tr style=\"text-align: right;\">\n",
       "      <th></th>\n",
       "      <th>Tipo</th>\n",
       "      <th>Bairro</th>\n",
       "      <th>Quartos</th>\n",
       "      <th>Vagas</th>\n",
       "      <th>Suites</th>\n",
       "      <th>Area</th>\n",
       "      <th>Valor</th>\n",
       "      <th>Condominio</th>\n",
       "      <th>IPTU</th>\n",
       "    </tr>\n",
       "  </thead>\n",
       "  <tbody>\n",
       "    <tr>\n",
       "      <th>0</th>\n",
       "      <td>Quitinete</td>\n",
       "      <td>Copacabana</td>\n",
       "      <td>1</td>\n",
       "      <td>0</td>\n",
       "      <td>0</td>\n",
       "      <td>40</td>\n",
       "      <td>1700.0</td>\n",
       "      <td>500.0</td>\n",
       "      <td>60.0</td>\n",
       "    </tr>\n",
       "    <tr>\n",
       "      <th>1</th>\n",
       "      <td>Casa</td>\n",
       "      <td>Jardim Botânico</td>\n",
       "      <td>2</td>\n",
       "      <td>0</td>\n",
       "      <td>1</td>\n",
       "      <td>100</td>\n",
       "      <td>7000.0</td>\n",
       "      <td>NaN</td>\n",
       "      <td>NaN</td>\n",
       "    </tr>\n",
       "    <tr>\n",
       "      <th>2</th>\n",
       "      <td>Conjunto Comercial/Sala</td>\n",
       "      <td>Barra da Tijuca</td>\n",
       "      <td>0</td>\n",
       "      <td>4</td>\n",
       "      <td>0</td>\n",
       "      <td>150</td>\n",
       "      <td>5200.0</td>\n",
       "      <td>4020.0</td>\n",
       "      <td>1111.0</td>\n",
       "    </tr>\n",
       "    <tr>\n",
       "      <th>3</th>\n",
       "      <td>Apartamento</td>\n",
       "      <td>Centro</td>\n",
       "      <td>1</td>\n",
       "      <td>0</td>\n",
       "      <td>0</td>\n",
       "      <td>15</td>\n",
       "      <td>800.0</td>\n",
       "      <td>390.0</td>\n",
       "      <td>20.0</td>\n",
       "    </tr>\n",
       "    <tr>\n",
       "      <th>4</th>\n",
       "      <td>Apartamento</td>\n",
       "      <td>Higienópolis</td>\n",
       "      <td>1</td>\n",
       "      <td>0</td>\n",
       "      <td>0</td>\n",
       "      <td>48</td>\n",
       "      <td>800.0</td>\n",
       "      <td>230.0</td>\n",
       "      <td>NaN</td>\n",
       "    </tr>\n",
       "    <tr>\n",
       "      <th>...</th>\n",
       "      <td>...</td>\n",
       "      <td>...</td>\n",
       "      <td>...</td>\n",
       "      <td>...</td>\n",
       "      <td>...</td>\n",
       "      <td>...</td>\n",
       "      <td>...</td>\n",
       "      <td>...</td>\n",
       "      <td>...</td>\n",
       "    </tr>\n",
       "    <tr>\n",
       "      <th>32955</th>\n",
       "      <td>Quitinete</td>\n",
       "      <td>Centro</td>\n",
       "      <td>0</td>\n",
       "      <td>0</td>\n",
       "      <td>0</td>\n",
       "      <td>27</td>\n",
       "      <td>800.0</td>\n",
       "      <td>350.0</td>\n",
       "      <td>25.0</td>\n",
       "    </tr>\n",
       "    <tr>\n",
       "      <th>32956</th>\n",
       "      <td>Apartamento</td>\n",
       "      <td>Jacarepaguá</td>\n",
       "      <td>3</td>\n",
       "      <td>1</td>\n",
       "      <td>2</td>\n",
       "      <td>78</td>\n",
       "      <td>1800.0</td>\n",
       "      <td>800.0</td>\n",
       "      <td>40.0</td>\n",
       "    </tr>\n",
       "    <tr>\n",
       "      <th>32957</th>\n",
       "      <td>Apartamento</td>\n",
       "      <td>São Francisco Xavier</td>\n",
       "      <td>2</td>\n",
       "      <td>1</td>\n",
       "      <td>0</td>\n",
       "      <td>48</td>\n",
       "      <td>1400.0</td>\n",
       "      <td>509.0</td>\n",
       "      <td>37.0</td>\n",
       "    </tr>\n",
       "    <tr>\n",
       "      <th>32958</th>\n",
       "      <td>Apartamento</td>\n",
       "      <td>Leblon</td>\n",
       "      <td>2</td>\n",
       "      <td>0</td>\n",
       "      <td>0</td>\n",
       "      <td>70</td>\n",
       "      <td>3000.0</td>\n",
       "      <td>760.0</td>\n",
       "      <td>NaN</td>\n",
       "    </tr>\n",
       "    <tr>\n",
       "      <th>32959</th>\n",
       "      <td>Conjunto Comercial/Sala</td>\n",
       "      <td>Centro</td>\n",
       "      <td>0</td>\n",
       "      <td>0</td>\n",
       "      <td>0</td>\n",
       "      <td>250</td>\n",
       "      <td>6500.0</td>\n",
       "      <td>4206.0</td>\n",
       "      <td>1109.0</td>\n",
       "    </tr>\n",
       "  </tbody>\n",
       "</table>\n",
       "<p>32960 rows × 9 columns</p>\n",
       "</div>"
      ],
      "text/plain": [
       "                          Tipo                Bairro  Quartos  Vagas  Suites  \\\n",
       "0                    Quitinete            Copacabana        1      0       0   \n",
       "1                         Casa       Jardim Botânico        2      0       1   \n",
       "2      Conjunto Comercial/Sala       Barra da Tijuca        0      4       0   \n",
       "3                  Apartamento                Centro        1      0       0   \n",
       "4                  Apartamento          Higienópolis        1      0       0   \n",
       "...                        ...                   ...      ...    ...     ...   \n",
       "32955                Quitinete                Centro        0      0       0   \n",
       "32956              Apartamento           Jacarepaguá        3      1       2   \n",
       "32957              Apartamento  São Francisco Xavier        2      1       0   \n",
       "32958              Apartamento                Leblon        2      0       0   \n",
       "32959  Conjunto Comercial/Sala                Centro        0      0       0   \n",
       "\n",
       "       Area   Valor  Condominio    IPTU  \n",
       "0        40  1700.0       500.0    60.0  \n",
       "1       100  7000.0         NaN     NaN  \n",
       "2       150  5200.0      4020.0  1111.0  \n",
       "3        15   800.0       390.0    20.0  \n",
       "4        48   800.0       230.0     NaN  \n",
       "...     ...     ...         ...     ...  \n",
       "32955    27   800.0       350.0    25.0  \n",
       "32956    78  1800.0       800.0    40.0  \n",
       "32957    48  1400.0       509.0    37.0  \n",
       "32958    70  3000.0       760.0     NaN  \n",
       "32959   250  6500.0      4206.0  1109.0  \n",
       "\n",
       "[32960 rows x 9 columns]"
      ]
     },
     "execution_count": 161,
     "metadata": {},
     "output_type": "execute_result"
    }
   ],
   "source": [
    "pd.read_csv('Portifolio/aluguel.csv' , sep = \";\")\n",
    "\n",
    "# comando para abrir o arquivo upado na pasta \"portifolio\"\n",
    "# utilização do sep = \";\" quando o separador default tiver alterado "
   ]
  },
  {
   "cell_type": "code",
   "execution_count": 162,
   "id": "1ed5421f",
   "metadata": {},
   "outputs": [],
   "source": [
    "dados = pd.read_csv('Portifolio/aluguel.csv' , sep = \";\")\n",
    "\n",
    "# determinando a nossa variavel dados, vinculando ela ao nosso arquivo \"aluguel\"\n"
   ]
  },
  {
   "cell_type": "code",
   "execution_count": 163,
   "id": "08c42c90",
   "metadata": {},
   "outputs": [
    {
     "data": {
      "text/plain": [
       "Tipo           object\n",
       "Bairro         object\n",
       "Quartos         int64\n",
       "Vagas           int64\n",
       "Suites          int64\n",
       "Area            int64\n",
       "Valor         float64\n",
       "Condominio    float64\n",
       "IPTU          float64\n",
       "dtype: object"
      ]
     },
     "execution_count": 163,
     "metadata": {},
     "output_type": "execute_result"
    }
   ],
   "source": [
    "dados.dtypes\n",
    "\n",
    "# mostra as categorias dos dados processados "
   ]
  },
  {
   "cell_type": "code",
   "execution_count": 164,
   "id": "03319a42",
   "metadata": {
    "scrolled": true
   },
   "outputs": [
    {
     "data": {
      "text/plain": [
       "pandas.core.frame.DataFrame"
      ]
     },
     "execution_count": 164,
     "metadata": {},
     "output_type": "execute_result"
    }
   ],
   "source": [
    "type(dados)\n",
    "\n",
    "# mostra o tipo de variavel "
   ]
  },
  {
   "cell_type": "code",
   "execution_count": 165,
   "id": "4ba86598",
   "metadata": {},
   "outputs": [
    {
     "name": "stdout",
     "output_type": "stream",
     "text": [
      "<class 'pandas.core.frame.DataFrame'>\n",
      "RangeIndex: 32960 entries, 0 to 32959\n",
      "Data columns (total 9 columns):\n",
      " #   Column      Non-Null Count  Dtype  \n",
      "---  ------      --------------  -----  \n",
      " 0   Tipo        32960 non-null  object \n",
      " 1   Bairro      32960 non-null  object \n",
      " 2   Quartos     32960 non-null  int64  \n",
      " 3   Vagas       32960 non-null  int64  \n",
      " 4   Suites      32960 non-null  int64  \n",
      " 5   Area        32960 non-null  int64  \n",
      " 6   Valor       32943 non-null  float64\n",
      " 7   Condominio  28867 non-null  float64\n",
      " 8   IPTU        22723 non-null  float64\n",
      "dtypes: float64(3), int64(4), object(2)\n",
      "memory usage: 2.3+ MB\n"
     ]
    }
   ],
   "source": [
    "dados.info()\n",
    "\n",
    "# mais detalhes sobre a variavel(dataframe)"
   ]
  },
  {
   "cell_type": "markdown",
   "id": "7f199f0c",
   "metadata": {},
   "source": [
    "# 2. Trabalhando com Tuplas "
   ]
  },
  {
   "cell_type": "markdown",
   "id": "ec61ed92",
   "metadata": {},
   "source": [
    "# 2.1 Criando Tuplas "
   ]
  },
  {
   "cell_type": "markdown",
   "id": "3b0585be",
   "metadata": {},
   "source": [
    "Tuplas são sequências imutáveis que são utilizadas para armazenar coleções de itens, geralmente heterogêneos. Podem ser construídas de várias formas:\n",
    "\n",
    "- Utilizando um par de parênteses: ( )\n",
    "- Utilizando uma vírgula à direita: x,\n",
    "- Utilizando um par de parênteses com itens separados por vírgulas: ( x, y, z )\n",
    "- Utilizando: tuple() ou tuple(iterador)"
   ]
  },
  {
   "cell_type": "code",
   "execution_count": 166,
   "id": "4501ddcc",
   "metadata": {},
   "outputs": [
    {
     "data": {
      "text/plain": [
       "()"
      ]
     },
     "execution_count": 166,
     "metadata": {},
     "output_type": "execute_result"
    }
   ],
   "source": [
    "()"
   ]
  },
  {
   "cell_type": "code",
   "execution_count": 167,
   "id": "aa7f5a85",
   "metadata": {},
   "outputs": [
    {
     "data": {
      "text/plain": [
       "(1, 2, 3)"
      ]
     },
     "execution_count": 167,
     "metadata": {},
     "output_type": "execute_result"
    }
   ],
   "source": [
    "1,2,3"
   ]
  },
  {
   "cell_type": "code",
   "execution_count": 168,
   "id": "6fb93f80",
   "metadata": {},
   "outputs": [
    {
     "data": {
      "text/plain": [
       "('apartamento', '100000')"
      ]
     },
     "execution_count": 168,
     "metadata": {},
     "output_type": "execute_result"
    }
   ],
   "source": [
    "tipo = 'apartamento'\n",
    "valor = '100000'\n",
    "(tipo,valor)"
   ]
  },
  {
   "cell_type": "code",
   "execution_count": 169,
   "id": "6d211da3",
   "metadata": {},
   "outputs": [
    {
     "data": {
      "text/plain": [
       "('apartamento', 'casa', 'kitnet', 'flat')"
      ]
     },
     "execution_count": 169,
     "metadata": {},
     "output_type": "execute_result"
    }
   ],
   "source": [
    "tipo_moradia = ('apartamento','casa','kitnet','flat')\n",
    "tipo_moradia\n",
    "\n",
    "# criando uma variavel para exemplificar tuplas "
   ]
  },
  {
   "cell_type": "code",
   "execution_count": 170,
   "id": "ddb8bf33",
   "metadata": {},
   "outputs": [
    {
     "data": {
      "text/plain": [
       "tuple"
      ]
     },
     "execution_count": 170,
     "metadata": {},
     "output_type": "execute_result"
    }
   ],
   "source": [
    "type(tipo_moradia)"
   ]
  },
  {
   "cell_type": "markdown",
   "id": "6e5aafce",
   "metadata": {},
   "source": [
    "# 2.2 Seleção em Tuplas"
   ]
  },
  {
   "cell_type": "code",
   "execution_count": 171,
   "id": "1e4f0d0f",
   "metadata": {},
   "outputs": [
    {
     "data": {
      "text/plain": [
       "('apartamento', 'casa', 'kitnet', 'flat')"
      ]
     },
     "execution_count": 171,
     "metadata": {},
     "output_type": "execute_result"
    }
   ],
   "source": [
    "tipo_moradia"
   ]
  },
  {
   "cell_type": "code",
   "execution_count": 172,
   "id": "88c9408f",
   "metadata": {},
   "outputs": [
    {
     "data": {
      "text/plain": [
       "'apartamento'"
      ]
     },
     "execution_count": 172,
     "metadata": {},
     "output_type": "execute_result"
    }
   ],
   "source": [
    "tipo_moradia[0]"
   ]
  },
  {
   "cell_type": "code",
   "execution_count": 173,
   "id": "e8b9e777",
   "metadata": {},
   "outputs": [
    {
     "data": {
      "text/plain": [
       "'flat'"
      ]
     },
     "execution_count": 173,
     "metadata": {},
     "output_type": "execute_result"
    }
   ],
   "source": [
    "tipo_moradia[-1]"
   ]
  },
  {
   "cell_type": "code",
   "execution_count": 174,
   "id": "72b3abc2",
   "metadata": {},
   "outputs": [
    {
     "data": {
      "text/plain": [
       "('casa', 'kitnet')"
      ]
     },
     "execution_count": 174,
     "metadata": {},
     "output_type": "execute_result"
    }
   ],
   "source": [
    "tipo_moradia[1:3]"
   ]
  },
  {
   "cell_type": "code",
   "execution_count": 175,
   "id": "36090741",
   "metadata": {},
   "outputs": [
    {
     "data": {
      "text/plain": [
       "('apartamento',\n",
       " 'kitnet',\n",
       " 'flat',\n",
       " ('casa', 'casa de vila', 'casa de condominio'))"
      ]
     },
     "execution_count": 175,
     "metadata": {},
     "output_type": "execute_result"
    }
   ],
   "source": [
    "tipo_moradia2 = ('apartamento','kitnet','flat', ('casa','casa de vila','casa de condominio'))\n",
    "tipo_moradia2"
   ]
  },
  {
   "cell_type": "code",
   "execution_count": 176,
   "id": "0e7d204b",
   "metadata": {},
   "outputs": [
    {
     "data": {
      "text/plain": [
       "('casa', 'casa de vila', 'casa de condominio')"
      ]
     },
     "execution_count": 176,
     "metadata": {},
     "output_type": "execute_result"
    }
   ],
   "source": [
    "tipo_moradia2[-1]"
   ]
  },
  {
   "cell_type": "code",
   "execution_count": 177,
   "id": "de07d323",
   "metadata": {},
   "outputs": [
    {
     "data": {
      "text/plain": [
       "'casa'"
      ]
     },
     "execution_count": 177,
     "metadata": {},
     "output_type": "execute_result"
    }
   ],
   "source": [
    "tipo_moradia2[-1][0]\n",
    "\n",
    "# quando colocados em colchetes lado a lado a seleção ira pegar o item dentro do subgrupo referente a posição pré determinada, no caso -1"
   ]
  },
  {
   "cell_type": "markdown",
   "id": "3cdf7907",
   "metadata": {},
   "source": [
    "# 2.3 Iterando em Tupas "
   ]
  },
  {
   "cell_type": "code",
   "execution_count": 178,
   "id": "275d6a70",
   "metadata": {},
   "outputs": [
    {
     "data": {
      "text/plain": [
       "('apartamento', 'casa', 'kitnet', 'flat')"
      ]
     },
     "execution_count": 178,
     "metadata": {},
     "output_type": "execute_result"
    }
   ],
   "source": [
    "tipo_moradia = ('apartamento','casa','kitnet','flat')\n",
    "tipo_moradia"
   ]
  },
  {
   "cell_type": "code",
   "execution_count": 179,
   "id": "cd9ba266",
   "metadata": {},
   "outputs": [
    {
     "name": "stdout",
     "output_type": "stream",
     "text": [
      "apartamento\n",
      "casa\n",
      "kitnet\n",
      "flat\n"
     ]
    }
   ],
   "source": [
    "for casa in tipo_moradia:\n",
    "  print(casa)"
   ]
  },
  {
   "cell_type": "markdown",
   "id": "95a05c64",
   "metadata": {},
   "source": [
    "## Desempacotamento de Tuplas"
   ]
  },
  {
   "cell_type": "code",
   "execution_count": 180,
   "id": "7e8684a2",
   "metadata": {},
   "outputs": [],
   "source": [
    "moradia_1,moradia_2,moradia_3,moradia_4 = tipo_moradia\n"
   ]
  },
  {
   "cell_type": "code",
   "execution_count": 181,
   "id": "45f7243b",
   "metadata": {},
   "outputs": [
    {
     "data": {
      "text/plain": [
       "'apartamento'"
      ]
     },
     "execution_count": 181,
     "metadata": {},
     "output_type": "execute_result"
    }
   ],
   "source": [
    "moradia_1"
   ]
  },
  {
   "cell_type": "code",
   "execution_count": 182,
   "id": "cd195c78",
   "metadata": {},
   "outputs": [
    {
     "data": {
      "text/plain": [
       "'casa'"
      ]
     },
     "execution_count": 182,
     "metadata": {},
     "output_type": "execute_result"
    }
   ],
   "source": [
    "moradia_2"
   ]
  },
  {
   "cell_type": "code",
   "execution_count": 183,
   "id": "5121b03a",
   "metadata": {},
   "outputs": [
    {
     "data": {
      "text/plain": [
       "'kitnet'"
      ]
     },
     "execution_count": 183,
     "metadata": {},
     "output_type": "execute_result"
    }
   ],
   "source": [
    "moradia_3"
   ]
  },
  {
   "cell_type": "code",
   "execution_count": 184,
   "id": "7275f915",
   "metadata": {},
   "outputs": [
    {
     "data": {
      "text/plain": [
       "'flat'"
      ]
     },
     "execution_count": 184,
     "metadata": {},
     "output_type": "execute_result"
    }
   ],
   "source": [
    "moradia_4"
   ]
  },
  {
   "cell_type": "code",
   "execution_count": 185,
   "id": "8f43a16c",
   "metadata": {},
   "outputs": [],
   "source": [
    "_,A,_,B = tipo_moradia"
   ]
  },
  {
   "cell_type": "code",
   "execution_count": 186,
   "id": "13ee9a2e",
   "metadata": {},
   "outputs": [
    {
     "data": {
      "text/plain": [
       "'casa'"
      ]
     },
     "execution_count": 186,
     "metadata": {},
     "output_type": "execute_result"
    }
   ],
   "source": [
    "A"
   ]
  },
  {
   "cell_type": "code",
   "execution_count": 187,
   "id": "1d56363a",
   "metadata": {},
   "outputs": [
    {
     "data": {
      "text/plain": [
       "'flat'"
      ]
     },
     "execution_count": 187,
     "metadata": {},
     "output_type": "execute_result"
    }
   ],
   "source": [
    "B"
   ]
  },
  {
   "cell_type": "code",
   "execution_count": 188,
   "id": "35783779",
   "metadata": {},
   "outputs": [],
   "source": [
    "_,C,*_ = tipo_moradia"
   ]
  },
  {
   "cell_type": "code",
   "execution_count": 189,
   "id": "b38c9fd2",
   "metadata": {},
   "outputs": [
    {
     "data": {
      "text/plain": [
       "'casa'"
      ]
     },
     "execution_count": 189,
     "metadata": {},
     "output_type": "execute_result"
    }
   ],
   "source": [
    "C"
   ]
  },
  {
   "cell_type": "markdown",
   "id": "cd5b6841",
   "metadata": {},
   "source": [
    "# Zip ()\n",
    "\n",
    "https://docs.python.org/3.6/library/functions.html#zip"
   ]
  },
  {
   "cell_type": "code",
   "execution_count": 190,
   "id": "17b16e56",
   "metadata": {},
   "outputs": [
    {
     "data": {
      "text/plain": [
       "['apartamento', 'casa', 'kitnet', 'flat']"
      ]
     },
     "execution_count": 190,
     "metadata": {},
     "output_type": "execute_result"
    }
   ],
   "source": [
    "moradia = ['apartamento','casa','kitnet','flat']\n",
    "moradia"
   ]
  },
  {
   "cell_type": "code",
   "execution_count": 191,
   "id": "6866426d",
   "metadata": {},
   "outputs": [
    {
     "data": {
      "text/plain": [
       "[88078.64, 106161.94, 72832.16, 124549.07]"
      ]
     },
     "execution_count": 191,
     "metadata": {},
     "output_type": "execute_result"
    }
   ],
   "source": [
    "valores = [88078.64, 106161.94, 72832.16, 124549.07]\n",
    "valores"
   ]
  },
  {
   "cell_type": "code",
   "execution_count": 192,
   "id": "004724b2",
   "metadata": {},
   "outputs": [
    {
     "data": {
      "text/plain": [
       "[('apartamento', 88078.64),\n",
       " ('casa', 106161.94),\n",
       " ('kitnet', 72832.16),\n",
       " ('flat', 124549.07)]"
      ]
     },
     "execution_count": 192,
     "metadata": {},
     "output_type": "execute_result"
    }
   ],
   "source": [
    "list(zip(moradia,valores))"
   ]
  },
  {
   "cell_type": "code",
   "execution_count": 193,
   "id": "64e5ddbe",
   "metadata": {},
   "outputs": [
    {
     "name": "stdout",
     "output_type": "stream",
     "text": [
      "('apartamento', 88078.64)\n",
      "('casa', 106161.94)\n",
      "('kitnet', 72832.16)\n",
      "('flat', 124549.07)\n"
     ]
    }
   ],
   "source": [
    "for casa in zip(moradia,valores):\n",
    "    print(casa)"
   ]
  },
  {
   "cell_type": "code",
   "execution_count": 194,
   "id": "e60b954d",
   "metadata": {},
   "outputs": [
    {
     "name": "stdout",
     "output_type": "stream",
     "text": [
      "apartamento 88078.64\n",
      "casa 106161.94\n",
      "kitnet 72832.16\n",
      "flat 124549.07\n"
     ]
    }
   ],
   "source": [
    "for moradia,valor in zip(moradia,valores):\n",
    "    print(moradia,valor)"
   ]
  },
  {
   "cell_type": "code",
   "execution_count": 195,
   "id": "2036bbd2",
   "metadata": {},
   "outputs": [
    {
     "name": "stdout",
     "output_type": "stream",
     "text": [
      "106161.94\n",
      "124549.07\n"
     ]
    }
   ],
   "source": [
    "for moradia,valores in zip(moradia,valores):\n",
    "    if valores > 100000:\n",
    "        print(valores)"
   ]
  },
  {
   "cell_type": "markdown",
   "id": "2456bf3a",
   "metadata": {},
   "source": [
    "# 3.Trabalhando com Dicionários "
   ]
  },
  {
   "cell_type": "markdown",
   "id": "3311276f",
   "metadata": {},
   "source": [
    "# 3.1 Criando Dicionários "
   ]
  },
  {
   "cell_type": "markdown",
   "id": "4e8869b2",
   "metadata": {},
   "source": [
    "Listas são coleções sequenciais, isto é, os itens destas sequências estão ordenados e utilizam índices (números inteiros) para acessar os valores.\n",
    "\n",
    "Os dicionários são coleções um pouco diferentes. São estruturas de dados que representam um tipo de mapeamento. Mapeamentos são coleções de associações entre pares de valores onde o primeiro elemento do par é conhecido como chave (key) e o segundo como valor (value).\n",
    "\n",
    "      dicionario = {key_1: value_1, key_2: value_2, ..., key_n: value_n}\n",
    "      \n",
    "\n",
    "https://docs.python.org/3.6/library/stdtypes.html#typesmapping"
   ]
  },
  {
   "cell_type": "code",
   "execution_count": 196,
   "id": "dda4495e",
   "metadata": {},
   "outputs": [
    {
     "data": {
      "text/plain": [
       "['casa', 'kitnet', 'apartamento']"
      ]
     },
     "execution_count": 196,
     "metadata": {},
     "output_type": "execute_result"
    }
   ],
   "source": [
    "moradia = ['casa' , 'kitnet' , 'apartamento']\n",
    "moradia\n"
   ]
  },
  {
   "cell_type": "code",
   "execution_count": 197,
   "id": "f3ee7552",
   "metadata": {},
   "outputs": [
    {
     "data": {
      "text/plain": [
       "[88078.64, 106161.94, 72832.16]"
      ]
     },
     "execution_count": 197,
     "metadata": {},
     "output_type": "execute_result"
    }
   ],
   "source": [
    "valores = [88078.64, 106161.94, 72832.16]\n",
    "valores"
   ]
  },
  {
   "cell_type": "code",
   "execution_count": 198,
   "id": "5245ebf4",
   "metadata": {},
   "outputs": [
    {
     "data": {
      "text/plain": [
       "2"
      ]
     },
     "execution_count": 198,
     "metadata": {},
     "output_type": "execute_result"
    }
   ],
   "source": [
    "moradia.index('apartamento')"
   ]
  },
  {
   "cell_type": "code",
   "execution_count": 199,
   "id": "320854a0",
   "metadata": {},
   "outputs": [
    {
     "data": {
      "text/plain": [
       "72832.16"
      ]
     },
     "execution_count": 199,
     "metadata": {},
     "output_type": "execute_result"
    }
   ],
   "source": [
    "valores[moradia.index('apartamento')]\n"
   ]
  },
  {
   "cell_type": "code",
   "execution_count": 200,
   "id": "ca31e44a",
   "metadata": {},
   "outputs": [
    {
     "data": {
      "text/plain": [
       "106161.94"
      ]
     },
     "execution_count": 200,
     "metadata": {},
     "output_type": "execute_result"
    }
   ],
   "source": [
    "\n",
    "dados = {'casa': 88078.64 , 'kitnet': 106161.94 , 'apartamento': 72832.16}\n",
    "dados['kitnet']"
   ]
  },
  {
   "cell_type": "code",
   "execution_count": 201,
   "id": "ec997cf1",
   "metadata": {},
   "outputs": [
    {
     "data": {
      "text/plain": [
       "dict"
      ]
     },
     "execution_count": 201,
     "metadata": {},
     "output_type": "execute_result"
    }
   ],
   "source": [
    "type(dados)"
   ]
  },
  {
   "cell_type": "markdown",
   "id": "178e0a57",
   "metadata": {},
   "source": [
    "## Criando Dicionários com Zip()"
   ]
  },
  {
   "cell_type": "code",
   "execution_count": 202,
   "id": "468e7f02",
   "metadata": {},
   "outputs": [
    {
     "data": {
      "text/plain": [
       "[('casa', 88078.64), ('kitnet', 106161.94), ('apartamento', 72832.16)]"
      ]
     },
     "execution_count": 202,
     "metadata": {},
     "output_type": "execute_result"
    }
   ],
   "source": [
    "list (zip(moradia,valores))"
   ]
  },
  {
   "cell_type": "code",
   "execution_count": 203,
   "id": "a08b5f07",
   "metadata": {},
   "outputs": [
    {
     "data": {
      "text/plain": [
       "{'casa': 88078.64, 'kitnet': 106161.94, 'apartamento': 72832.16}"
      ]
     },
     "execution_count": 203,
     "metadata": {},
     "output_type": "execute_result"
    }
   ],
   "source": [
    "dados = dict(zip(moradia,valores))\n",
    "dados\n"
   ]
  },
  {
   "cell_type": "markdown",
   "id": "9e4369ba",
   "metadata": {},
   "source": [
    "# 3.2 Operações com Dicionários"
   ]
  },
  {
   "cell_type": "markdown",
   "id": "99be2646",
   "metadata": {},
   "source": [
    "## dict [key]\n",
    "\n",
    "Retorna o valor correspondente à chave (key) no dicionário.\n",
    "\n"
   ]
  },
  {
   "cell_type": "code",
   "execution_count": 204,
   "id": "59052527",
   "metadata": {},
   "outputs": [
    {
     "data": {
      "text/plain": [
       "{'casa': 88078.64, 'kitnet': 106161.94, 'apartamento': 72832.16}"
      ]
     },
     "execution_count": 204,
     "metadata": {},
     "output_type": "execute_result"
    }
   ],
   "source": [
    "dados"
   ]
  },
  {
   "cell_type": "code",
   "execution_count": 205,
   "id": "b03adeb1",
   "metadata": {},
   "outputs": [
    {
     "data": {
      "text/plain": [
       "88078.64"
      ]
     },
     "execution_count": 205,
     "metadata": {},
     "output_type": "execute_result"
    }
   ],
   "source": [
    "dados['casa']"
   ]
  },
  {
   "cell_type": "markdown",
   "id": "b178ca05",
   "metadata": {},
   "source": [
    "## "
   ]
  },
  {
   "cell_type": "markdown",
   "id": "98b75a70",
   "metadata": {},
   "source": [
    "## key in dict\n",
    "\n",
    "Retorna True se a chave (key) for encontrada no dicionário."
   ]
  },
  {
   "cell_type": "code",
   "execution_count": 206,
   "id": "19577dfa",
   "metadata": {},
   "outputs": [
    {
     "data": {
      "text/plain": [
       "True"
      ]
     },
     "execution_count": 206,
     "metadata": {},
     "output_type": "execute_result"
    }
   ],
   "source": [
    "'apartamento' in dados  "
   ]
  },
  {
   "cell_type": "code",
   "execution_count": 207,
   "id": "fd3e4c24",
   "metadata": {},
   "outputs": [
    {
     "data": {
      "text/plain": [
       "False"
      ]
     },
     "execution_count": 207,
     "metadata": {},
     "output_type": "execute_result"
    }
   ],
   "source": [
    "'casa de vila' in dados "
   ]
  },
  {
   "cell_type": "code",
   "execution_count": 208,
   "id": "e10d9c08",
   "metadata": {},
   "outputs": [
    {
     "data": {
      "text/plain": [
       "True"
      ]
     },
     "execution_count": 208,
     "metadata": {},
     "output_type": "execute_result"
    }
   ],
   "source": [
    "'casa de vila' not in dados "
   ]
  },
  {
   "cell_type": "markdown",
   "id": "7e96eca7",
   "metadata": {},
   "source": [
    "## len(dict)\n",
    "\n",
    "Retorna o número de itens do dicionário."
   ]
  },
  {
   "cell_type": "code",
   "execution_count": 209,
   "id": "3bdbcf41",
   "metadata": {},
   "outputs": [
    {
     "data": {
      "text/plain": [
       "3"
      ]
     },
     "execution_count": 209,
     "metadata": {},
     "output_type": "execute_result"
    }
   ],
   "source": [
    "len(dados)\n"
   ]
  },
  {
   "cell_type": "markdown",
   "id": "ce3987d6",
   "metadata": {},
   "source": [
    "## dict[ key ] = value\n",
    "\n",
    "Inclui um item ao dicionário.\n",
    "\n"
   ]
  },
  {
   "cell_type": "code",
   "execution_count": 210,
   "id": "0756885d",
   "metadata": {},
   "outputs": [],
   "source": [
    "dados['casa de vila']=100000\n"
   ]
  },
  {
   "cell_type": "code",
   "execution_count": 211,
   "id": "bc680622",
   "metadata": {},
   "outputs": [
    {
     "data": {
      "text/plain": [
       "{'casa': 88078.64,\n",
       " 'kitnet': 106161.94,\n",
       " 'apartamento': 72832.16,\n",
       " 'casa de vila': 100000}"
      ]
     },
     "execution_count": 211,
     "metadata": {},
     "output_type": "execute_result"
    }
   ],
   "source": [
    "dados"
   ]
  },
  {
   "cell_type": "markdown",
   "id": "8ead638f",
   "metadata": {},
   "source": [
    "## del dict[ key ]\n",
    "\n",
    "Remove o item de chave (key) do dicionário.\n",
    "\n",
    "    "
   ]
  },
  {
   "cell_type": "code",
   "execution_count": 212,
   "id": "1380af93",
   "metadata": {},
   "outputs": [
    {
     "data": {
      "text/plain": [
       "{'casa': 88078.64,\n",
       " 'kitnet': 106161.94,\n",
       " 'apartamento': 72832.16,\n",
       " 'casa de vila': 100000}"
      ]
     },
     "execution_count": 212,
     "metadata": {},
     "output_type": "execute_result"
    }
   ],
   "source": [
    "dados"
   ]
  },
  {
   "cell_type": "code",
   "execution_count": 213,
   "id": "48a02ce4",
   "metadata": {},
   "outputs": [
    {
     "data": {
      "text/plain": [
       "{'casa': 88078.64, 'kitnet': 106161.94, 'apartamento': 72832.16}"
      ]
     },
     "execution_count": 213,
     "metadata": {},
     "output_type": "execute_result"
    }
   ],
   "source": [
    "del dados['casa de vila']\n",
    "dados"
   ]
  },
  {
   "cell_type": "markdown",
   "id": "0900fab2",
   "metadata": {},
   "source": [
    "# 3.3 Métodos de dicionários\n"
   ]
  },
  {
   "cell_type": "markdown",
   "id": "47bc4e8b",
   "metadata": {},
   "source": [
    "## dict.update()\n",
    "\n",
    "atualiza o dicionário"
   ]
  },
  {
   "cell_type": "code",
   "execution_count": 214,
   "id": "fa1c6c22",
   "metadata": {},
   "outputs": [
    {
     "data": {
      "text/plain": [
       "{'casa': 88078.64, 'kitnet': 106161.94, 'apartamento': 72832.16}"
      ]
     },
     "execution_count": 214,
     "metadata": {},
     "output_type": "execute_result"
    }
   ],
   "source": [
    "dados"
   ]
  },
  {
   "cell_type": "code",
   "execution_count": 215,
   "id": "578fa020",
   "metadata": {},
   "outputs": [
    {
     "data": {
      "text/plain": [
       "{'casa': 88078.64,\n",
       " 'kitnet': 106161.94,\n",
       " 'apartamento': 72832.16,\n",
       " 'casa de vila': 100000}"
      ]
     },
     "execution_count": 215,
     "metadata": {},
     "output_type": "execute_result"
    }
   ],
   "source": [
    "dados.update({'casa de vila': 100000})\n",
    "dados"
   ]
  },
  {
   "cell_type": "markdown",
   "id": "d097eb33",
   "metadata": {},
   "source": [
    "## dict.copy()\n",
    "\n",
    "cria uma cópia do dicionário "
   ]
  },
  {
   "cell_type": "code",
   "execution_count": 216,
   "id": "c5132851",
   "metadata": {},
   "outputs": [],
   "source": [
    "dados_2 = dados.copy()"
   ]
  },
  {
   "cell_type": "code",
   "execution_count": 217,
   "id": "7569311e",
   "metadata": {},
   "outputs": [
    {
     "data": {
      "text/plain": [
       "{'casa': 88078.64,\n",
       " 'kitnet': 106161.94,\n",
       " 'apartamento': 72832.16,\n",
       " 'casa de vila': 100000}"
      ]
     },
     "execution_count": 217,
     "metadata": {},
     "output_type": "execute_result"
    }
   ],
   "source": [
    "dados_2"
   ]
  },
  {
   "cell_type": "code",
   "execution_count": 218,
   "id": "a2c0d9b4",
   "metadata": {},
   "outputs": [
    {
     "data": {
      "text/plain": [
       "{'kitnet': 106161.94, 'apartamento': 72832.16, 'casa de vila': 100000}"
      ]
     },
     "execution_count": 218,
     "metadata": {},
     "output_type": "execute_result"
    }
   ],
   "source": [
    "del dados_2['casa']\n",
    "dados_2"
   ]
  },
  {
   "cell_type": "code",
   "execution_count": 219,
   "id": "f7ba9532",
   "metadata": {},
   "outputs": [
    {
     "data": {
      "text/plain": [
       "{'casa': 88078.64,\n",
       " 'kitnet': 106161.94,\n",
       " 'apartamento': 72832.16,\n",
       " 'casa de vila': 100000}"
      ]
     },
     "execution_count": 219,
     "metadata": {},
     "output_type": "execute_result"
    }
   ],
   "source": [
    "dados"
   ]
  },
  {
   "cell_type": "markdown",
   "id": "5cfa5b7d",
   "metadata": {},
   "source": [
    "## dict.pop(key[, default])\n",
    "\n",
    "Se a chave for encontrada no dicionário, o item é removido e seu valor é retornado. Caso contrário, o valor especificado como default é retornado. Se o valor default não for fornecido e a chave não for encontrada no dicionário um erro será gerado."
   ]
  },
  {
   "cell_type": "code",
   "execution_count": 220,
   "id": "4a6ac65a",
   "metadata": {},
   "outputs": [
    {
     "data": {
      "text/plain": [
       "{'kitnet': 106161.94, 'apartamento': 72832.16, 'casa de vila': 100000}"
      ]
     },
     "execution_count": 220,
     "metadata": {},
     "output_type": "execute_result"
    }
   ],
   "source": [
    "dados_2"
   ]
  },
  {
   "cell_type": "code",
   "execution_count": 221,
   "id": "2a2666a8",
   "metadata": {},
   "outputs": [
    {
     "data": {
      "text/plain": [
       "72832.16"
      ]
     },
     "execution_count": 221,
     "metadata": {},
     "output_type": "execute_result"
    }
   ],
   "source": [
    "dados_2.pop('apartamento')"
   ]
  },
  {
   "cell_type": "code",
   "execution_count": 222,
   "id": "37968888",
   "metadata": {},
   "outputs": [
    {
     "data": {
      "text/plain": [
       "{'kitnet': 106161.94, 'casa de vila': 100000}"
      ]
     },
     "execution_count": 222,
     "metadata": {},
     "output_type": "execute_result"
    }
   ],
   "source": [
    "dados_2"
   ]
  },
  {
   "cell_type": "code",
   "execution_count": 223,
   "id": "1a250888",
   "metadata": {},
   "outputs": [
    {
     "data": {
      "text/plain": [
       "'chave não encontrada'"
      ]
     },
     "execution_count": 223,
     "metadata": {},
     "output_type": "execute_result"
    }
   ],
   "source": [
    "dados_2.pop('apartamento','chave não encontrada')"
   ]
  },
  {
   "cell_type": "markdown",
   "id": "2346e8a8",
   "metadata": {},
   "source": [
    "## dict.clear\n",
    "\n",
    "Remove todos os itens do dicionario "
   ]
  },
  {
   "cell_type": "code",
   "execution_count": 224,
   "id": "6b26cef4",
   "metadata": {},
   "outputs": [],
   "source": [
    "dados_2.clear()"
   ]
  },
  {
   "cell_type": "code",
   "execution_count": 225,
   "id": "88fa8b40",
   "metadata": {},
   "outputs": [
    {
     "data": {
      "text/plain": [
       "{}"
      ]
     },
     "execution_count": 225,
     "metadata": {},
     "output_type": "execute_result"
    }
   ],
   "source": [
    "dados_2"
   ]
  },
  {
   "cell_type": "markdown",
   "id": "2653622b",
   "metadata": {},
   "source": [
    "# 3.4 Iterando em dicionários "
   ]
  },
  {
   "cell_type": "markdown",
   "id": "5c9fcf5d",
   "metadata": {},
   "source": [
    "## dict.keys()\n",
    "\n",
    "Retorna uma lista contendo as chaves (keys) do dicionário.\n",
    "\n"
   ]
  },
  {
   "cell_type": "code",
   "execution_count": 226,
   "id": "d1404614",
   "metadata": {},
   "outputs": [],
   "source": [
    "dados_2 = dados.copy()"
   ]
  },
  {
   "cell_type": "code",
   "execution_count": 227,
   "id": "946c9857",
   "metadata": {},
   "outputs": [
    {
     "data": {
      "text/plain": [
       "{'casa': 88078.64,\n",
       " 'kitnet': 106161.94,\n",
       " 'apartamento': 72832.16,\n",
       " 'casa de vila': 100000}"
      ]
     },
     "execution_count": 227,
     "metadata": {},
     "output_type": "execute_result"
    }
   ],
   "source": [
    "dados_2"
   ]
  },
  {
   "cell_type": "code",
   "execution_count": 228,
   "id": "b2842453",
   "metadata": {},
   "outputs": [
    {
     "data": {
      "text/plain": [
       "dict_keys(['casa', 'kitnet', 'apartamento', 'casa de vila'])"
      ]
     },
     "execution_count": 228,
     "metadata": {},
     "output_type": "execute_result"
    }
   ],
   "source": [
    "dados.keys()\n"
   ]
  },
  {
   "cell_type": "code",
   "execution_count": 229,
   "id": "da83b408",
   "metadata": {},
   "outputs": [
    {
     "name": "stdout",
     "output_type": "stream",
     "text": [
      "[88078.64]\n",
      "[106161.94]\n",
      "[72832.16]\n",
      "[100000]\n"
     ]
    }
   ],
   "source": [
    "for casa in dados_2.keys():\n",
    "    print([dados_2[casa]])"
   ]
  },
  {
   "cell_type": "markdown",
   "id": "df2125fc",
   "metadata": {},
   "source": [
    "## dict.values()\n",
    "\n",
    "Retorna uma lista com todos os valores (values) do dicionário.\n",
    "\n"
   ]
  },
  {
   "cell_type": "code",
   "execution_count": 230,
   "id": "17f734ac",
   "metadata": {},
   "outputs": [
    {
     "data": {
      "text/plain": [
       "dict_values([88078.64, 106161.94, 72832.16, 100000])"
      ]
     },
     "execution_count": 230,
     "metadata": {},
     "output_type": "execute_result"
    }
   ],
   "source": [
    "dados.values()"
   ]
  },
  {
   "cell_type": "markdown",
   "id": "f1a02fdc",
   "metadata": {},
   "source": [
    "## dict.items()\n",
    "\n",
    "Retorna uma lista contendo uma tupla para cada par chave-valor (key-value) do dicionário.\n",
    "\n"
   ]
  },
  {
   "cell_type": "code",
   "execution_count": 231,
   "id": "69c51aed",
   "metadata": {},
   "outputs": [
    {
     "data": {
      "text/plain": [
       "dict_items([('casa', 88078.64), ('kitnet', 106161.94), ('apartamento', 72832.16), ('casa de vila', 100000)])"
      ]
     },
     "execution_count": 231,
     "metadata": {},
     "output_type": "execute_result"
    }
   ],
   "source": [
    "dados.items()"
   ]
  },
  {
   "cell_type": "code",
   "execution_count": 232,
   "id": "abf557d0",
   "metadata": {},
   "outputs": [
    {
     "name": "stdout",
     "output_type": "stream",
     "text": [
      "('casa', 88078.64)\n",
      "('kitnet', 106161.94)\n",
      "('apartamento', 72832.16)\n",
      "('casa de vila', 100000)\n"
     ]
    }
   ],
   "source": [
    "for casa in dados_2.items():\n",
    "  print(casa)\n",
    "   "
   ]
  },
  {
   "cell_type": "code",
   "execution_count": 233,
   "id": "d63aaea4",
   "metadata": {},
   "outputs": [
    {
     "name": "stdout",
     "output_type": "stream",
     "text": [
      "casa 88078.64\n",
      "kitnet 106161.94\n",
      "apartamento 72832.16\n",
      "casa de vila 100000\n"
     ]
    }
   ],
   "source": [
    "for key,values in dados_2.items():\n",
    "  print(key,values)"
   ]
  },
  {
   "cell_type": "code",
   "execution_count": 234,
   "id": "49806e66",
   "metadata": {},
   "outputs": [
    {
     "name": "stdout",
     "output_type": "stream",
     "text": [
      "kitnet 106161.94\n"
     ]
    }
   ],
   "source": [
    "for key,value in dados_2.items():\n",
    "  if value>100000:\n",
    "    print(key,value)"
   ]
  },
  {
   "cell_type": "markdown",
   "id": "968e5ce8",
   "metadata": {},
   "source": [
    "   # 4.Funções e Pacotes "
   ]
  },
  {
   "cell_type": "markdown",
   "id": "5f2faef4",
   "metadata": {},
   "source": [
    "Funções são unidades de código reutilizáveis que realizam uma tarefa específica, podem receber alguma entrada e também podem retornar alguma resultado.\n",
    "\n"
   ]
  },
  {
   "cell_type": "markdown",
   "id": "54dbcd8d",
   "metadata": {},
   "source": [
    "# 4.1 Built-in function\n"
   ]
  },
  {
   "cell_type": "markdown",
   "id": "9f4b677a",
   "metadata": {},
   "source": [
    "A linguagem Python possui várias funções integradas que estão sempre acessíveis. Algumas já utilizamos em nosso treinamento: type(), print(), zip(), len(), set() etc.\n",
    "\n",
    "https://docs.python.org/3.6/library/functions.html"
   ]
  },
  {
   "cell_type": "code",
   "execution_count": 235,
   "id": "30c14dec",
   "metadata": {},
   "outputs": [
    {
     "data": {
      "text/plain": [
       "{'casa': 88078.64,\n",
       " 'kitnet': 106161.94,\n",
       " 'apartamento': 72832.16,\n",
       " 'casa de vila': 100000}"
      ]
     },
     "execution_count": 235,
     "metadata": {},
     "output_type": "execute_result"
    }
   ],
   "source": [
    "dados"
   ]
  },
  {
   "cell_type": "code",
   "execution_count": 236,
   "id": "b94da8f7",
   "metadata": {},
   "outputs": [
    {
     "data": {
      "text/plain": [
       "[88078.64, 106161.94, 72832.16, 100000]"
      ]
     },
     "execution_count": 236,
     "metadata": {},
     "output_type": "execute_result"
    }
   ],
   "source": [
    "valores = []\n",
    "for valor in dados.values():\n",
    " valores.append(valor)\n",
    "valores"
   ]
  },
  {
   "cell_type": "code",
   "execution_count": 237,
   "id": "c6d21e24",
   "metadata": {},
   "outputs": [
    {
     "data": {
      "text/plain": [
       "367072.74"
      ]
     },
     "execution_count": 237,
     "metadata": {},
     "output_type": "execute_result"
    }
   ],
   "source": [
    "soma = 0 \n",
    "for valor in dados.values():\n",
    "    soma += valor \n",
    "soma"
   ]
  },
  {
   "cell_type": "code",
   "execution_count": 238,
   "id": "58f7c68a",
   "metadata": {},
   "outputs": [
    {
     "data": {
      "text/plain": [
       "367072.74"
      ]
     },
     "execution_count": 238,
     "metadata": {},
     "output_type": "execute_result"
    }
   ],
   "source": [
    "sum(dados.values())"
   ]
  },
  {
   "cell_type": "code",
   "execution_count": 239,
   "id": "a84ce808",
   "metadata": {},
   "outputs": [
    {
     "data": {
      "text/plain": [
       "368072.74"
      ]
     },
     "execution_count": 239,
     "metadata": {},
     "output_type": "execute_result"
    }
   ],
   "source": [
    "sum(dados.values(),1000)"
   ]
  },
  {
   "cell_type": "code",
   "execution_count": 240,
   "id": "1c41ad34",
   "metadata": {},
   "outputs": [
    {
     "name": "stdout",
     "output_type": "stream",
     "text": [
      "Help on built-in function sum in module builtins:\n",
      "\n",
      "sum(iterable, /, start=0)\n",
      "    Return the sum of a 'start' value (default: 0) plus an iterable of numbers\n",
      "    \n",
      "    When the iterable is empty, return the start value.\n",
      "    This function is intended specifically for use with numeric values and may\n",
      "    reject non-numeric types.\n",
      "\n"
     ]
    }
   ],
   "source": [
    "help(sum)"
   ]
  },
  {
   "cell_type": "code",
   "execution_count": 241,
   "id": "aa23fa20",
   "metadata": {},
   "outputs": [],
   "source": [
    "sum?"
   ]
  },
  {
   "cell_type": "markdown",
   "id": "84460a62",
   "metadata": {},
   "source": [
    "# 4.2 Definindo funções sem e com parâmetros\n"
   ]
  },
  {
   "cell_type": "markdown",
   "id": "23f8e334",
   "metadata": {},
   "source": [
    "## Funçoes sem parâmetros \n",
    "\n",
    "## Formato padrão"
   ]
  },
  {
   "cell_type": "code",
   "execution_count": 242,
   "id": "ab2472ab",
   "metadata": {},
   "outputs": [],
   "source": [
    "def texto():\n",
    "    print('ola meu chapa')"
   ]
  },
  {
   "cell_type": "code",
   "execution_count": 243,
   "id": "0218e8fc",
   "metadata": {},
   "outputs": [
    {
     "name": "stdout",
     "output_type": "stream",
     "text": [
      "ola meu chapa\n"
     ]
    }
   ],
   "source": [
    "texto()"
   ]
  },
  {
   "cell_type": "markdown",
   "id": "67bf30cd",
   "metadata": {},
   "source": [
    "## Funções com parâmetros\n",
    "\n",
    "## Formato padrão \n"
   ]
  },
  {
   "cell_type": "markdown",
   "id": "959393e3",
   "metadata": {},
   "source": [
    "def < nome > (< param_1 >, < param_2 >, ..., < param_n >):\n",
    "    \n",
    "    < instruções >"
   ]
  },
  {
   "cell_type": "code",
   "execution_count": 244,
   "id": "ee27bd4c",
   "metadata": {},
   "outputs": [],
   "source": [
    "def media(valores):\n",
    "    valores = list(valores)\n",
    "    media=sum(valores)/len(valores)\n",
    "    print('a média é%.2f'%media)"
   ]
  },
  {
   "cell_type": "code",
   "execution_count": 245,
   "id": "cb2cf46e",
   "metadata": {},
   "outputs": [
    {
     "name": "stdout",
     "output_type": "stream",
     "text": [
      "a média é2.00\n"
     ]
    }
   ],
   "source": [
    "media([1,2,3])\n"
   ]
  },
  {
   "cell_type": "code",
   "execution_count": 246,
   "id": "9dca8f9d",
   "metadata": {},
   "outputs": [
    {
     "name": "stdout",
     "output_type": "stream",
     "text": [
      "a média é2.00\n"
     ]
    }
   ],
   "source": [
    "media({1,2,3})"
   ]
  },
  {
   "cell_type": "code",
   "execution_count": 247,
   "id": "2de5a9dd",
   "metadata": {},
   "outputs": [
    {
     "name": "stdout",
     "output_type": "stream",
     "text": [
      "a média é2.00\n"
     ]
    }
   ],
   "source": [
    "media((1,2,3))\n"
   ]
  },
  {
   "cell_type": "markdown",
   "id": "ef576b16",
   "metadata": {},
   "source": [
    "# 4.3 Definindo funções que retornam valores\n"
   ]
  },
  {
   "cell_type": "markdown",
   "id": "44e31200",
   "metadata": {},
   "source": [
    "## Funções que retornam um valor\n",
    "\n",
    "## Formato padrão\n",
    "\n"
   ]
  },
  {
   "cell_type": "markdown",
   "id": "dd32b1bd",
   "metadata": {},
   "source": [
    "def < nome > ( < param_1 > , < param_2 > , ..., < param_n > ):\n",
    "    \n",
    "    < instruções >\n",
    "    \n",
    "    return < resultado >"
   ]
  },
  {
   "cell_type": "code",
   "execution_count": 248,
   "id": "bce78440",
   "metadata": {},
   "outputs": [],
   "source": [
    "def media(valores):\n",
    "    valores=list(valores)\n",
    "    media=sum(valores)/len(valores)\n",
    "    print('A média é %.2f'%media)\n",
    "    return(media)"
   ]
  },
  {
   "cell_type": "code",
   "execution_count": 249,
   "id": "cd3a166d",
   "metadata": {},
   "outputs": [
    {
     "name": "stdout",
     "output_type": "stream",
     "text": [
      "A média é 2.00\n"
     ]
    }
   ],
   "source": [
    "resultado = media({1,2,3})\n"
   ]
  },
  {
   "cell_type": "code",
   "execution_count": 250,
   "id": "bb930f5f",
   "metadata": {},
   "outputs": [
    {
     "data": {
      "text/plain": [
       "2.0"
      ]
     },
     "execution_count": 250,
     "metadata": {},
     "output_type": "execute_result"
    }
   ],
   "source": [
    "resultado "
   ]
  },
  {
   "cell_type": "code",
   "execution_count": 251,
   "id": "4df22048",
   "metadata": {},
   "outputs": [
    {
     "data": {
      "text/plain": [
       "array([ 1,  2,  3,  4,  5,  6,  7,  8,  9, 10])"
      ]
     },
     "execution_count": 251,
     "metadata": {},
     "output_type": "execute_result"
    }
   ],
   "source": [
    "import numpy as np \n",
    "teste = np.arange(1,11)\n",
    "teste"
   ]
  },
  {
   "cell_type": "code",
   "execution_count": 252,
   "id": "ac4e7059",
   "metadata": {},
   "outputs": [
    {
     "name": "stdout",
     "output_type": "stream",
     "text": [
      "A média é 5.50\n"
     ]
    }
   ],
   "source": [
    "resultado = media(teste)"
   ]
  },
  {
   "cell_type": "code",
   "execution_count": 253,
   "id": "bc7761b6",
   "metadata": {},
   "outputs": [
    {
     "data": {
      "text/plain": [
       "5.5"
      ]
     },
     "execution_count": 253,
     "metadata": {},
     "output_type": "execute_result"
    }
   ],
   "source": [
    "resultado"
   ]
  },
  {
   "cell_type": "markdown",
   "id": "7125b87a",
   "metadata": {},
   "source": [
    "## Funções que retornam mais de um valor\n",
    "\n",
    "## Formato padrão\n"
   ]
  },
  {
   "cell_type": "markdown",
   "id": "5be17254",
   "metadata": {},
   "source": [
    "def < nome >(< param_1 >, < param_2 >, ..., < param_n >):\n",
    "    \n",
    "    < instruções >\n",
    "    \n",
    "    return (< resultado_1 >, < resultado_2 >, ..., < resultado_n >)"
   ]
  },
  {
   "cell_type": "code",
   "execution_count": 254,
   "id": "61925b85",
   "metadata": {},
   "outputs": [],
   "source": [
    "def media(valores):\n",
    "    valores = list(valores)\n",
    "    tamanho = len(valores)\n",
    "    \n",
    "    media = sum(valores)/tamanho\n",
    "    \n",
    "    print('a média é %.2f'%media)\n",
    "    print('o tamanho é %.i'%tamanho)\n",
    "    return(media,tamanho)"
   ]
  },
  {
   "cell_type": "code",
   "execution_count": 255,
   "id": "29653247",
   "metadata": {},
   "outputs": [
    {
     "name": "stdout",
     "output_type": "stream",
     "text": [
      "a média é 5.50\n",
      "o tamanho é 10\n"
     ]
    }
   ],
   "source": [
    "resultado = media(teste)"
   ]
  },
  {
   "cell_type": "code",
   "execution_count": 256,
   "id": "c71688c8",
   "metadata": {},
   "outputs": [
    {
     "data": {
      "text/plain": [
       "(5.5, 10)"
      ]
     },
     "execution_count": 256,
     "metadata": {},
     "output_type": "execute_result"
    }
   ],
   "source": [
    "resultado"
   ]
  },
  {
   "cell_type": "markdown",
   "id": "1cf0c602",
   "metadata": {},
   "source": [
    "# 5.Pandas Basico\n",
    "\n",
    "versão: 0.25.2\n",
    "\n",
    "Pandas é uma ferramenta de manipulação de dados de alto nível, construída com base no pacote Numpy. O pacote pandas possui estruturas de dados bastante interessantes para manipulação de dados e por isso é muito utilizado por cientistas de dados."
   ]
  },
  {
   "cell_type": "markdown",
   "id": "0cb123df",
   "metadata": {},
   "source": [
    "## Estruturas de dados \n",
    "\n",
    "## Series\n",
    "\n",
    "Series são arrays unidimensionais rotulados capazes de armazenar qualquer tipo de dado. Os rótulos das linhas são chamados de index. A forma básica de criação de uma Series é a seguinte:\n",
    "\n",
    "    s = pd.Series(dados, index = index)\n",
    "O argumento dados pode ser um dicionário, uma lista, um array Numpy ou uma constante."
   ]
  },
  {
   "cell_type": "markdown",
   "id": "4f2c863f",
   "metadata": {},
   "source": [
    "## DataFrames"
   ]
  },
  {
   "cell_type": "markdown",
   "id": "48695143",
   "metadata": {},
   "source": [
    "DataFrame é uma estrutura de dados tabular bidimensional com rótulos nas linha e colunas. Como a Series, os DataFrames são capazes de armazenar qualquer tipo de dados.\n",
    "\n",
    "    df = pd.DataFrame(dados, index = index, columns = columns)\n",
    "O argumento dados pode ser um dicionário, uma lista, um array Numpy, uma Series e outro DataFrame.\n",
    "\n",
    "Documentação: https://pandas.pydata.org/pandas-docs/version/0.25/"
   ]
  },
  {
   "cell_type": "markdown",
   "id": "6abe2b61",
   "metadata": {},
   "source": [
    "# 5.1 Estruturas de dados\n"
   ]
  },
  {
   "cell_type": "code",
   "execution_count": 257,
   "id": "b63b6a2f",
   "metadata": {},
   "outputs": [],
   "source": [
    "import pandas as pd \n",
    "\n",
    "# serve para iniciar a utilização da biblioteca pandas "
   ]
  },
  {
   "cell_type": "markdown",
   "id": "633222a5",
   "metadata": {},
   "source": [
    "## Criando uma Series a partir de uma lista\n"
   ]
  },
  {
   "cell_type": "code",
   "execution_count": 258,
   "id": "706cc6ce",
   "metadata": {},
   "outputs": [
    {
     "data": {
      "text/plain": [
       "['casa', 'kitnet', 'apartamento']"
      ]
     },
     "execution_count": 258,
     "metadata": {},
     "output_type": "execute_result"
    }
   ],
   "source": [
    "moradia"
   ]
  },
  {
   "cell_type": "code",
   "execution_count": 259,
   "id": "2deab5eb",
   "metadata": {},
   "outputs": [
    {
     "data": {
      "text/plain": [
       "0           casa\n",
       "1         kitnet\n",
       "2    apartamento\n",
       "dtype: object"
      ]
     },
     "execution_count": 259,
     "metadata": {},
     "output_type": "execute_result"
    }
   ],
   "source": [
    "pd.Series(moradia)"
   ]
  },
  {
   "cell_type": "markdown",
   "id": "6bff7afb",
   "metadata": {},
   "source": [
    "## Criando um DataFrame a partir de uma lista de dicionários\n"
   ]
  },
  {
   "cell_type": "code",
   "execution_count": 260,
   "id": "7c2ca7a5",
   "metadata": {},
   "outputs": [],
   "source": [
    "dados = [\n",
    "    {'Nome': 'Jetta Variant', 'Motor': 'Motor 4.0 Turbo', 'Ano': 2003, 'Quilometragem': 44410.0, 'Zero_km': False, 'Valor': 88078.64},\n",
    "    {'Nome': 'Passat', 'Motor': 'Motor Diesel', 'Ano': 1991, 'Quilometragem': 5712.0, 'Zero_km': False, 'Valor': 106161.94},\n",
    "    {'Nome': 'Crossfox', 'Motor': 'Motor Diesel V8', 'Ano': 1990, 'Quilometragem': 37123.0, 'Zero_km': False, 'Valor': 72832.16}\n",
    "]\n"
   ]
  },
  {
   "cell_type": "code",
   "execution_count": 261,
   "id": "bf968528",
   "metadata": {},
   "outputs": [],
   "source": [
    "dataset = pd.DataFrame(dados)"
   ]
  },
  {
   "cell_type": "code",
   "execution_count": 262,
   "id": "beb00958",
   "metadata": {},
   "outputs": [
    {
     "data": {
      "text/html": [
       "<div>\n",
       "<style scoped>\n",
       "    .dataframe tbody tr th:only-of-type {\n",
       "        vertical-align: middle;\n",
       "    }\n",
       "\n",
       "    .dataframe tbody tr th {\n",
       "        vertical-align: top;\n",
       "    }\n",
       "\n",
       "    .dataframe thead th {\n",
       "        text-align: right;\n",
       "    }\n",
       "</style>\n",
       "<table border=\"1\" class=\"dataframe\">\n",
       "  <thead>\n",
       "    <tr style=\"text-align: right;\">\n",
       "      <th></th>\n",
       "      <th>Nome</th>\n",
       "      <th>Motor</th>\n",
       "      <th>Ano</th>\n",
       "      <th>Quilometragem</th>\n",
       "      <th>Zero_km</th>\n",
       "      <th>Valor</th>\n",
       "    </tr>\n",
       "  </thead>\n",
       "  <tbody>\n",
       "    <tr>\n",
       "      <th>0</th>\n",
       "      <td>Jetta Variant</td>\n",
       "      <td>Motor 4.0 Turbo</td>\n",
       "      <td>2003</td>\n",
       "      <td>44410.0</td>\n",
       "      <td>False</td>\n",
       "      <td>88078.64</td>\n",
       "    </tr>\n",
       "    <tr>\n",
       "      <th>1</th>\n",
       "      <td>Passat</td>\n",
       "      <td>Motor Diesel</td>\n",
       "      <td>1991</td>\n",
       "      <td>5712.0</td>\n",
       "      <td>False</td>\n",
       "      <td>106161.94</td>\n",
       "    </tr>\n",
       "    <tr>\n",
       "      <th>2</th>\n",
       "      <td>Crossfox</td>\n",
       "      <td>Motor Diesel V8</td>\n",
       "      <td>1990</td>\n",
       "      <td>37123.0</td>\n",
       "      <td>False</td>\n",
       "      <td>72832.16</td>\n",
       "    </tr>\n",
       "  </tbody>\n",
       "</table>\n",
       "</div>"
      ],
      "text/plain": [
       "            Nome            Motor   Ano  Quilometragem  Zero_km      Valor\n",
       "0  Jetta Variant  Motor 4.0 Turbo  2003        44410.0    False   88078.64\n",
       "1         Passat     Motor Diesel  1991         5712.0    False  106161.94\n",
       "2       Crossfox  Motor Diesel V8  1990        37123.0    False   72832.16"
      ]
     },
     "execution_count": 262,
     "metadata": {},
     "output_type": "execute_result"
    }
   ],
   "source": [
    "dataset"
   ]
  },
  {
   "cell_type": "markdown",
   "id": "b73da4c0",
   "metadata": {},
   "source": [
    "## Criando um DataFrame a partir de um dicionário\n"
   ]
  },
  {
   "cell_type": "code",
   "execution_count": 263,
   "id": "851c1700",
   "metadata": {},
   "outputs": [],
   "source": [
    "dados = {\n",
    "    'Nome': ['Jetta Variant', 'Passat', 'Crossfox'], \n",
    "    'Motor': ['Motor 4.0 Turbo', 'Motor Diesel', 'Motor Diesel V8'],\n",
    "    'Ano': [2003, 1991, 1990],\n",
    "    'Quilometragem': [44410.0, 5712.0, 37123.0],\n",
    "    'Zero_km': [False, False, False],\n",
    "    'Valor': [88078.64, 106161.94, 72832.16]\n",
    "}"
   ]
  },
  {
   "cell_type": "code",
   "execution_count": 264,
   "id": "5813b354",
   "metadata": {},
   "outputs": [],
   "source": [
    "dataset = pd.DataFrame(dados)\n"
   ]
  },
  {
   "cell_type": "code",
   "execution_count": 265,
   "id": "66c94a2f",
   "metadata": {},
   "outputs": [
    {
     "data": {
      "text/html": [
       "<div>\n",
       "<style scoped>\n",
       "    .dataframe tbody tr th:only-of-type {\n",
       "        vertical-align: middle;\n",
       "    }\n",
       "\n",
       "    .dataframe tbody tr th {\n",
       "        vertical-align: top;\n",
       "    }\n",
       "\n",
       "    .dataframe thead th {\n",
       "        text-align: right;\n",
       "    }\n",
       "</style>\n",
       "<table border=\"1\" class=\"dataframe\">\n",
       "  <thead>\n",
       "    <tr style=\"text-align: right;\">\n",
       "      <th></th>\n",
       "      <th>Nome</th>\n",
       "      <th>Motor</th>\n",
       "      <th>Ano</th>\n",
       "      <th>Quilometragem</th>\n",
       "      <th>Zero_km</th>\n",
       "      <th>Valor</th>\n",
       "    </tr>\n",
       "  </thead>\n",
       "  <tbody>\n",
       "    <tr>\n",
       "      <th>0</th>\n",
       "      <td>Jetta Variant</td>\n",
       "      <td>Motor 4.0 Turbo</td>\n",
       "      <td>2003</td>\n",
       "      <td>44410.0</td>\n",
       "      <td>False</td>\n",
       "      <td>88078.64</td>\n",
       "    </tr>\n",
       "    <tr>\n",
       "      <th>1</th>\n",
       "      <td>Passat</td>\n",
       "      <td>Motor Diesel</td>\n",
       "      <td>1991</td>\n",
       "      <td>5712.0</td>\n",
       "      <td>False</td>\n",
       "      <td>106161.94</td>\n",
       "    </tr>\n",
       "    <tr>\n",
       "      <th>2</th>\n",
       "      <td>Crossfox</td>\n",
       "      <td>Motor Diesel V8</td>\n",
       "      <td>1990</td>\n",
       "      <td>37123.0</td>\n",
       "      <td>False</td>\n",
       "      <td>72832.16</td>\n",
       "    </tr>\n",
       "  </tbody>\n",
       "</table>\n",
       "</div>"
      ],
      "text/plain": [
       "            Nome            Motor   Ano  Quilometragem  Zero_km      Valor\n",
       "0  Jetta Variant  Motor 4.0 Turbo  2003        44410.0    False   88078.64\n",
       "1         Passat     Motor Diesel  1991         5712.0    False  106161.94\n",
       "2       Crossfox  Motor Diesel V8  1990        37123.0    False   72832.16"
      ]
     },
     "execution_count": 265,
     "metadata": {},
     "output_type": "execute_result"
    }
   ],
   "source": [
    "dataset"
   ]
  },
  {
   "cell_type": "markdown",
   "id": "c98ff427",
   "metadata": {},
   "source": [
    "## Criando um DataFrame a partir de uma arquivo externo\n"
   ]
  },
  {
   "cell_type": "code",
   "execution_count": 266,
   "id": "9e633232",
   "metadata": {},
   "outputs": [],
   "source": [
    "data_frame = pd.read_csv('Portifolio/aluguel.csv' , sep = \";\")\n"
   ]
  },
  {
   "cell_type": "code",
   "execution_count": 267,
   "id": "86331905",
   "metadata": {},
   "outputs": [
    {
     "data": {
      "text/html": [
       "<div>\n",
       "<style scoped>\n",
       "    .dataframe tbody tr th:only-of-type {\n",
       "        vertical-align: middle;\n",
       "    }\n",
       "\n",
       "    .dataframe tbody tr th {\n",
       "        vertical-align: top;\n",
       "    }\n",
       "\n",
       "    .dataframe thead th {\n",
       "        text-align: right;\n",
       "    }\n",
       "</style>\n",
       "<table border=\"1\" class=\"dataframe\">\n",
       "  <thead>\n",
       "    <tr style=\"text-align: right;\">\n",
       "      <th></th>\n",
       "      <th>Tipo</th>\n",
       "      <th>Bairro</th>\n",
       "      <th>Quartos</th>\n",
       "      <th>Vagas</th>\n",
       "      <th>Suites</th>\n",
       "      <th>Area</th>\n",
       "      <th>Valor</th>\n",
       "      <th>Condominio</th>\n",
       "      <th>IPTU</th>\n",
       "    </tr>\n",
       "  </thead>\n",
       "  <tbody>\n",
       "    <tr>\n",
       "      <th>0</th>\n",
       "      <td>Quitinete</td>\n",
       "      <td>Copacabana</td>\n",
       "      <td>1</td>\n",
       "      <td>0</td>\n",
       "      <td>0</td>\n",
       "      <td>40</td>\n",
       "      <td>1700.0</td>\n",
       "      <td>500.0</td>\n",
       "      <td>60.0</td>\n",
       "    </tr>\n",
       "    <tr>\n",
       "      <th>1</th>\n",
       "      <td>Casa</td>\n",
       "      <td>Jardim Botânico</td>\n",
       "      <td>2</td>\n",
       "      <td>0</td>\n",
       "      <td>1</td>\n",
       "      <td>100</td>\n",
       "      <td>7000.0</td>\n",
       "      <td>NaN</td>\n",
       "      <td>NaN</td>\n",
       "    </tr>\n",
       "  </tbody>\n",
       "</table>\n",
       "</div>"
      ],
      "text/plain": [
       "        Tipo           Bairro  Quartos  Vagas  Suites  Area   Valor  \\\n",
       "0  Quitinete       Copacabana        1      0       0    40  1700.0   \n",
       "1       Casa  Jardim Botânico        2      0       1   100  7000.0   \n",
       "\n",
       "   Condominio  IPTU  \n",
       "0       500.0  60.0  \n",
       "1         NaN   NaN  "
      ]
     },
     "execution_count": 267,
     "metadata": {},
     "output_type": "execute_result"
    }
   ],
   "source": [
    "data_frame.head(2)"
   ]
  },
  {
   "cell_type": "code",
   "execution_count": 268,
   "id": "2f87ccf0",
   "metadata": {},
   "outputs": [
    {
     "data": {
      "text/html": [
       "<div>\n",
       "<style scoped>\n",
       "    .dataframe tbody tr th:only-of-type {\n",
       "        vertical-align: middle;\n",
       "    }\n",
       "\n",
       "    .dataframe tbody tr th {\n",
       "        vertical-align: top;\n",
       "    }\n",
       "\n",
       "    .dataframe thead th {\n",
       "        text-align: right;\n",
       "    }\n",
       "</style>\n",
       "<table border=\"1\" class=\"dataframe\">\n",
       "  <thead>\n",
       "    <tr style=\"text-align: right;\">\n",
       "      <th></th>\n",
       "      <th>Bairro</th>\n",
       "      <th>Quartos</th>\n",
       "      <th>Vagas</th>\n",
       "      <th>Suites</th>\n",
       "      <th>Area</th>\n",
       "      <th>Valor</th>\n",
       "      <th>Condominio</th>\n",
       "      <th>IPTU</th>\n",
       "    </tr>\n",
       "    <tr>\n",
       "      <th>Tipo</th>\n",
       "      <th></th>\n",
       "      <th></th>\n",
       "      <th></th>\n",
       "      <th></th>\n",
       "      <th></th>\n",
       "      <th></th>\n",
       "      <th></th>\n",
       "      <th></th>\n",
       "    </tr>\n",
       "  </thead>\n",
       "  <tbody>\n",
       "    <tr>\n",
       "      <th>Quitinete</th>\n",
       "      <td>Copacabana</td>\n",
       "      <td>1</td>\n",
       "      <td>0</td>\n",
       "      <td>0</td>\n",
       "      <td>40</td>\n",
       "      <td>1700.0</td>\n",
       "      <td>500.0</td>\n",
       "      <td>60.0</td>\n",
       "    </tr>\n",
       "    <tr>\n",
       "      <th>Casa</th>\n",
       "      <td>Jardim Botânico</td>\n",
       "      <td>2</td>\n",
       "      <td>0</td>\n",
       "      <td>1</td>\n",
       "      <td>100</td>\n",
       "      <td>7000.0</td>\n",
       "      <td>NaN</td>\n",
       "      <td>NaN</td>\n",
       "    </tr>\n",
       "  </tbody>\n",
       "</table>\n",
       "</div>"
      ],
      "text/plain": [
       "                    Bairro  Quartos  Vagas  Suites  Area   Valor  Condominio  \\\n",
       "Tipo                                                                           \n",
       "Quitinete       Copacabana        1      0       0    40  1700.0       500.0   \n",
       "Casa       Jardim Botânico        2      0       1   100  7000.0         NaN   \n",
       "\n",
       "           IPTU  \n",
       "Tipo             \n",
       "Quitinete  60.0  \n",
       "Casa        NaN  "
      ]
     },
     "execution_count": 268,
     "metadata": {},
     "output_type": "execute_result"
    }
   ],
   "source": [
    "data_frame_2 = data_frame = pd.read_csv('Portifolio/aluguel.csv' , sep = \";\" ,index_col = 0)\n",
    "data_frame_2.head(2)\n",
    "\n",
    "# index_col = 0, faz com que retire a contagem das colunas "
   ]
  },
  {
   "cell_type": "markdown",
   "id": "065c7d07",
   "metadata": {},
   "source": [
    "# 5.2 Seleções com DataFrames\n",
    "\n",
    "## Selecionando colunas\n"
   ]
  },
  {
   "cell_type": "code",
   "execution_count": 269,
   "id": "a97544a6",
   "metadata": {},
   "outputs": [
    {
     "data": {
      "text/html": [
       "<div>\n",
       "<style scoped>\n",
       "    .dataframe tbody tr th:only-of-type {\n",
       "        vertical-align: middle;\n",
       "    }\n",
       "\n",
       "    .dataframe tbody tr th {\n",
       "        vertical-align: top;\n",
       "    }\n",
       "\n",
       "    .dataframe thead th {\n",
       "        text-align: right;\n",
       "    }\n",
       "</style>\n",
       "<table border=\"1\" class=\"dataframe\">\n",
       "  <thead>\n",
       "    <tr style=\"text-align: right;\">\n",
       "      <th></th>\n",
       "      <th>Bairro</th>\n",
       "      <th>Quartos</th>\n",
       "      <th>Vagas</th>\n",
       "      <th>Suites</th>\n",
       "      <th>Area</th>\n",
       "      <th>Valor</th>\n",
       "      <th>Condominio</th>\n",
       "      <th>IPTU</th>\n",
       "    </tr>\n",
       "    <tr>\n",
       "      <th>Tipo</th>\n",
       "      <th></th>\n",
       "      <th></th>\n",
       "      <th></th>\n",
       "      <th></th>\n",
       "      <th></th>\n",
       "      <th></th>\n",
       "      <th></th>\n",
       "      <th></th>\n",
       "    </tr>\n",
       "  </thead>\n",
       "  <tbody>\n",
       "    <tr>\n",
       "      <th>Quitinete</th>\n",
       "      <td>Copacabana</td>\n",
       "      <td>1</td>\n",
       "      <td>0</td>\n",
       "      <td>0</td>\n",
       "      <td>40</td>\n",
       "      <td>1700.0</td>\n",
       "      <td>500.0</td>\n",
       "      <td>60.0</td>\n",
       "    </tr>\n",
       "    <tr>\n",
       "      <th>Casa</th>\n",
       "      <td>Jardim Botânico</td>\n",
       "      <td>2</td>\n",
       "      <td>0</td>\n",
       "      <td>1</td>\n",
       "      <td>100</td>\n",
       "      <td>7000.0</td>\n",
       "      <td>NaN</td>\n",
       "      <td>NaN</td>\n",
       "    </tr>\n",
       "    <tr>\n",
       "      <th>Conjunto Comercial/Sala</th>\n",
       "      <td>Barra da Tijuca</td>\n",
       "      <td>0</td>\n",
       "      <td>4</td>\n",
       "      <td>0</td>\n",
       "      <td>150</td>\n",
       "      <td>5200.0</td>\n",
       "      <td>4020.0</td>\n",
       "      <td>1111.0</td>\n",
       "    </tr>\n",
       "    <tr>\n",
       "      <th>Apartamento</th>\n",
       "      <td>Centro</td>\n",
       "      <td>1</td>\n",
       "      <td>0</td>\n",
       "      <td>0</td>\n",
       "      <td>15</td>\n",
       "      <td>800.0</td>\n",
       "      <td>390.0</td>\n",
       "      <td>20.0</td>\n",
       "    </tr>\n",
       "    <tr>\n",
       "      <th>Apartamento</th>\n",
       "      <td>Higienópolis</td>\n",
       "      <td>1</td>\n",
       "      <td>0</td>\n",
       "      <td>0</td>\n",
       "      <td>48</td>\n",
       "      <td>800.0</td>\n",
       "      <td>230.0</td>\n",
       "      <td>NaN</td>\n",
       "    </tr>\n",
       "  </tbody>\n",
       "</table>\n",
       "</div>"
      ],
      "text/plain": [
       "                                  Bairro  Quartos  Vagas  Suites  Area  \\\n",
       "Tipo                                                                     \n",
       "Quitinete                     Copacabana        1      0       0    40   \n",
       "Casa                     Jardim Botânico        2      0       1   100   \n",
       "Conjunto Comercial/Sala  Barra da Tijuca        0      4       0   150   \n",
       "Apartamento                       Centro        1      0       0    15   \n",
       "Apartamento                 Higienópolis        1      0       0    48   \n",
       "\n",
       "                          Valor  Condominio    IPTU  \n",
       "Tipo                                                 \n",
       "Quitinete                1700.0       500.0    60.0  \n",
       "Casa                     7000.0         NaN     NaN  \n",
       "Conjunto Comercial/Sala  5200.0      4020.0  1111.0  \n",
       "Apartamento               800.0       390.0    20.0  \n",
       "Apartamento               800.0       230.0     NaN  "
      ]
     },
     "execution_count": 269,
     "metadata": {},
     "output_type": "execute_result"
    }
   ],
   "source": [
    "data_frame.head()"
   ]
  },
  {
   "cell_type": "code",
   "execution_count": 270,
   "id": "99896db3",
   "metadata": {},
   "outputs": [
    {
     "data": {
      "text/plain": [
       "Tipo\n",
       "Quitinete                            Copacabana\n",
       "Casa                            Jardim Botânico\n",
       "Conjunto Comercial/Sala         Barra da Tijuca\n",
       "Apartamento                              Centro\n",
       "Apartamento                        Higienópolis\n",
       "                                   ...         \n",
       "Quitinete                                Centro\n",
       "Apartamento                         Jacarepaguá\n",
       "Apartamento                São Francisco Xavier\n",
       "Apartamento                              Leblon\n",
       "Conjunto Comercial/Sala                  Centro\n",
       "Name: Bairro, Length: 32960, dtype: object"
      ]
     },
     "execution_count": 270,
     "metadata": {},
     "output_type": "execute_result"
    }
   ],
   "source": [
    "data_frame['Bairro']"
   ]
  },
  {
   "cell_type": "code",
   "execution_count": 271,
   "id": "1a15ca35",
   "metadata": {},
   "outputs": [
    {
     "data": {
      "text/plain": [
       "pandas.core.series.Series"
      ]
     },
     "execution_count": 271,
     "metadata": {},
     "output_type": "execute_result"
    }
   ],
   "source": [
    "type(data_frame['Bairro'])"
   ]
  },
  {
   "cell_type": "code",
   "execution_count": 272,
   "id": "df00dbc1",
   "metadata": {},
   "outputs": [
    {
     "data": {
      "text/html": [
       "<div>\n",
       "<style scoped>\n",
       "    .dataframe tbody tr th:only-of-type {\n",
       "        vertical-align: middle;\n",
       "    }\n",
       "\n",
       "    .dataframe tbody tr th {\n",
       "        vertical-align: top;\n",
       "    }\n",
       "\n",
       "    .dataframe thead th {\n",
       "        text-align: right;\n",
       "    }\n",
       "</style>\n",
       "<table border=\"1\" class=\"dataframe\">\n",
       "  <thead>\n",
       "    <tr style=\"text-align: right;\">\n",
       "      <th></th>\n",
       "      <th>Bairro</th>\n",
       "    </tr>\n",
       "    <tr>\n",
       "      <th>Tipo</th>\n",
       "      <th></th>\n",
       "    </tr>\n",
       "  </thead>\n",
       "  <tbody>\n",
       "    <tr>\n",
       "      <th>Quitinete</th>\n",
       "      <td>Copacabana</td>\n",
       "    </tr>\n",
       "    <tr>\n",
       "      <th>Casa</th>\n",
       "      <td>Jardim Botânico</td>\n",
       "    </tr>\n",
       "    <tr>\n",
       "      <th>Conjunto Comercial/Sala</th>\n",
       "      <td>Barra da Tijuca</td>\n",
       "    </tr>\n",
       "    <tr>\n",
       "      <th>Apartamento</th>\n",
       "      <td>Centro</td>\n",
       "    </tr>\n",
       "    <tr>\n",
       "      <th>Apartamento</th>\n",
       "      <td>Higienópolis</td>\n",
       "    </tr>\n",
       "    <tr>\n",
       "      <th>...</th>\n",
       "      <td>...</td>\n",
       "    </tr>\n",
       "    <tr>\n",
       "      <th>Quitinete</th>\n",
       "      <td>Centro</td>\n",
       "    </tr>\n",
       "    <tr>\n",
       "      <th>Apartamento</th>\n",
       "      <td>Jacarepaguá</td>\n",
       "    </tr>\n",
       "    <tr>\n",
       "      <th>Apartamento</th>\n",
       "      <td>São Francisco Xavier</td>\n",
       "    </tr>\n",
       "    <tr>\n",
       "      <th>Apartamento</th>\n",
       "      <td>Leblon</td>\n",
       "    </tr>\n",
       "    <tr>\n",
       "      <th>Conjunto Comercial/Sala</th>\n",
       "      <td>Centro</td>\n",
       "    </tr>\n",
       "  </tbody>\n",
       "</table>\n",
       "<p>32960 rows × 1 columns</p>\n",
       "</div>"
      ],
      "text/plain": [
       "                                       Bairro\n",
       "Tipo                                         \n",
       "Quitinete                          Copacabana\n",
       "Casa                          Jardim Botânico\n",
       "Conjunto Comercial/Sala       Barra da Tijuca\n",
       "Apartamento                            Centro\n",
       "Apartamento                      Higienópolis\n",
       "...                                       ...\n",
       "Quitinete                              Centro\n",
       "Apartamento                       Jacarepaguá\n",
       "Apartamento              São Francisco Xavier\n",
       "Apartamento                            Leblon\n",
       "Conjunto Comercial/Sala                Centro\n",
       "\n",
       "[32960 rows x 1 columns]"
      ]
     },
     "execution_count": 272,
     "metadata": {},
     "output_type": "execute_result"
    }
   ],
   "source": [
    "data_frame[['Bairro']]"
   ]
  },
  {
   "cell_type": "code",
   "execution_count": 273,
   "id": "00b62120",
   "metadata": {},
   "outputs": [
    {
     "data": {
      "text/plain": [
       "pandas.core.frame.DataFrame"
      ]
     },
     "execution_count": 273,
     "metadata": {},
     "output_type": "execute_result"
    }
   ],
   "source": [
    "type(data_frame[['Bairro']])"
   ]
  },
  {
   "cell_type": "markdown",
   "id": "8081f6c4",
   "metadata": {},
   "source": [
    "## Selecionando linhas - [ i : j ]\n",
    "\n",
    "**Observação:** A indexação tem origem no zero e nos fatiamentos (slices) a linha com índice i é incluída e a linha com índice j não é incluída no resultado.\n",
    "\n"
   ]
  },
  {
   "cell_type": "code",
   "execution_count": 274,
   "id": "874851fd",
   "metadata": {},
   "outputs": [
    {
     "data": {
      "text/html": [
       "<div>\n",
       "<style scoped>\n",
       "    .dataframe tbody tr th:only-of-type {\n",
       "        vertical-align: middle;\n",
       "    }\n",
       "\n",
       "    .dataframe tbody tr th {\n",
       "        vertical-align: top;\n",
       "    }\n",
       "\n",
       "    .dataframe thead th {\n",
       "        text-align: right;\n",
       "    }\n",
       "</style>\n",
       "<table border=\"1\" class=\"dataframe\">\n",
       "  <thead>\n",
       "    <tr style=\"text-align: right;\">\n",
       "      <th></th>\n",
       "      <th>Bairro</th>\n",
       "      <th>Quartos</th>\n",
       "      <th>Vagas</th>\n",
       "      <th>Suites</th>\n",
       "      <th>Area</th>\n",
       "      <th>Valor</th>\n",
       "      <th>Condominio</th>\n",
       "      <th>IPTU</th>\n",
       "    </tr>\n",
       "    <tr>\n",
       "      <th>Tipo</th>\n",
       "      <th></th>\n",
       "      <th></th>\n",
       "      <th></th>\n",
       "      <th></th>\n",
       "      <th></th>\n",
       "      <th></th>\n",
       "      <th></th>\n",
       "      <th></th>\n",
       "    </tr>\n",
       "  </thead>\n",
       "  <tbody>\n",
       "    <tr>\n",
       "      <th>Quitinete</th>\n",
       "      <td>Copacabana</td>\n",
       "      <td>1</td>\n",
       "      <td>0</td>\n",
       "      <td>0</td>\n",
       "      <td>40</td>\n",
       "      <td>1700.0</td>\n",
       "      <td>500.0</td>\n",
       "      <td>60.0</td>\n",
       "    </tr>\n",
       "    <tr>\n",
       "      <th>Casa</th>\n",
       "      <td>Jardim Botânico</td>\n",
       "      <td>2</td>\n",
       "      <td>0</td>\n",
       "      <td>1</td>\n",
       "      <td>100</td>\n",
       "      <td>7000.0</td>\n",
       "      <td>NaN</td>\n",
       "      <td>NaN</td>\n",
       "    </tr>\n",
       "    <tr>\n",
       "      <th>Conjunto Comercial/Sala</th>\n",
       "      <td>Barra da Tijuca</td>\n",
       "      <td>0</td>\n",
       "      <td>4</td>\n",
       "      <td>0</td>\n",
       "      <td>150</td>\n",
       "      <td>5200.0</td>\n",
       "      <td>4020.0</td>\n",
       "      <td>1111.0</td>\n",
       "    </tr>\n",
       "  </tbody>\n",
       "</table>\n",
       "</div>"
      ],
      "text/plain": [
       "                                  Bairro  Quartos  Vagas  Suites  Area  \\\n",
       "Tipo                                                                     \n",
       "Quitinete                     Copacabana        1      0       0    40   \n",
       "Casa                     Jardim Botânico        2      0       1   100   \n",
       "Conjunto Comercial/Sala  Barra da Tijuca        0      4       0   150   \n",
       "\n",
       "                          Valor  Condominio    IPTU  \n",
       "Tipo                                                 \n",
       "Quitinete                1700.0       500.0    60.0  \n",
       "Casa                     7000.0         NaN     NaN  \n",
       "Conjunto Comercial/Sala  5200.0      4020.0  1111.0  "
      ]
     },
     "execution_count": 274,
     "metadata": {},
     "output_type": "execute_result"
    }
   ],
   "source": [
    "data_frame[0:3]"
   ]
  },
  {
   "cell_type": "markdown",
   "id": "815fe5c1",
   "metadata": {},
   "source": [
    "## Utilizando .loc para seleções\n",
    "\n",
    "**Observação:** Seleciona um grupo de linhas e colunas segundo os rótulos ou uma matriz booleana.\n",
    "\n"
   ]
  },
  {
   "cell_type": "code",
   "execution_count": 275,
   "id": "b79d90b1",
   "metadata": {},
   "outputs": [
    {
     "data": {
      "text/html": [
       "<div>\n",
       "<style scoped>\n",
       "    .dataframe tbody tr th:only-of-type {\n",
       "        vertical-align: middle;\n",
       "    }\n",
       "\n",
       "    .dataframe tbody tr th {\n",
       "        vertical-align: top;\n",
       "    }\n",
       "\n",
       "    .dataframe thead th {\n",
       "        text-align: right;\n",
       "    }\n",
       "</style>\n",
       "<table border=\"1\" class=\"dataframe\">\n",
       "  <thead>\n",
       "    <tr style=\"text-align: right;\">\n",
       "      <th></th>\n",
       "      <th>Bairro</th>\n",
       "      <th>Quartos</th>\n",
       "      <th>Vagas</th>\n",
       "      <th>Suites</th>\n",
       "      <th>Area</th>\n",
       "      <th>Valor</th>\n",
       "      <th>Condominio</th>\n",
       "      <th>IPTU</th>\n",
       "    </tr>\n",
       "    <tr>\n",
       "      <th>Tipo</th>\n",
       "      <th></th>\n",
       "      <th></th>\n",
       "      <th></th>\n",
       "      <th></th>\n",
       "      <th></th>\n",
       "      <th></th>\n",
       "      <th></th>\n",
       "      <th></th>\n",
       "    </tr>\n",
       "  </thead>\n",
       "  <tbody>\n",
       "    <tr>\n",
       "      <th>Casa</th>\n",
       "      <td>Jardim Botânico</td>\n",
       "      <td>2</td>\n",
       "      <td>0</td>\n",
       "      <td>1</td>\n",
       "      <td>100</td>\n",
       "      <td>7000.0</td>\n",
       "      <td>NaN</td>\n",
       "      <td>NaN</td>\n",
       "    </tr>\n",
       "    <tr>\n",
       "      <th>Casa</th>\n",
       "      <td>Campo Grande</td>\n",
       "      <td>4</td>\n",
       "      <td>1</td>\n",
       "      <td>2</td>\n",
       "      <td>400</td>\n",
       "      <td>12000.0</td>\n",
       "      <td>NaN</td>\n",
       "      <td>NaN</td>\n",
       "    </tr>\n",
       "    <tr>\n",
       "      <th>Casa</th>\n",
       "      <td>Méier</td>\n",
       "      <td>2</td>\n",
       "      <td>0</td>\n",
       "      <td>0</td>\n",
       "      <td>51</td>\n",
       "      <td>1500.0</td>\n",
       "      <td>50.0</td>\n",
       "      <td>NaN</td>\n",
       "    </tr>\n",
       "    <tr>\n",
       "      <th>Casa</th>\n",
       "      <td>São Conrado</td>\n",
       "      <td>4</td>\n",
       "      <td>2</td>\n",
       "      <td>4</td>\n",
       "      <td>730</td>\n",
       "      <td>28000.0</td>\n",
       "      <td>2000.0</td>\n",
       "      <td>12000.0</td>\n",
       "    </tr>\n",
       "    <tr>\n",
       "      <th>Casa</th>\n",
       "      <td>Maracanã</td>\n",
       "      <td>8</td>\n",
       "      <td>3</td>\n",
       "      <td>5</td>\n",
       "      <td>259</td>\n",
       "      <td>7000.0</td>\n",
       "      <td>NaN</td>\n",
       "      <td>NaN</td>\n",
       "    </tr>\n",
       "    <tr>\n",
       "      <th>...</th>\n",
       "      <td>...</td>\n",
       "      <td>...</td>\n",
       "      <td>...</td>\n",
       "      <td>...</td>\n",
       "      <td>...</td>\n",
       "      <td>...</td>\n",
       "      <td>...</td>\n",
       "      <td>...</td>\n",
       "    </tr>\n",
       "    <tr>\n",
       "      <th>Casa</th>\n",
       "      <td>Vila da Penha</td>\n",
       "      <td>2</td>\n",
       "      <td>1</td>\n",
       "      <td>0</td>\n",
       "      <td>80</td>\n",
       "      <td>1500.0</td>\n",
       "      <td>NaN</td>\n",
       "      <td>NaN</td>\n",
       "    </tr>\n",
       "    <tr>\n",
       "      <th>Casa</th>\n",
       "      <td>Campo Grande</td>\n",
       "      <td>1</td>\n",
       "      <td>0</td>\n",
       "      <td>0</td>\n",
       "      <td>50</td>\n",
       "      <td>600.0</td>\n",
       "      <td>NaN</td>\n",
       "      <td>NaN</td>\n",
       "    </tr>\n",
       "    <tr>\n",
       "      <th>Casa</th>\n",
       "      <td>Recreio dos Bandeirantes</td>\n",
       "      <td>4</td>\n",
       "      <td>2</td>\n",
       "      <td>2</td>\n",
       "      <td>352</td>\n",
       "      <td>6500.0</td>\n",
       "      <td>NaN</td>\n",
       "      <td>NaN</td>\n",
       "    </tr>\n",
       "    <tr>\n",
       "      <th>Casa</th>\n",
       "      <td>Bento Ribeiro</td>\n",
       "      <td>2</td>\n",
       "      <td>1</td>\n",
       "      <td>0</td>\n",
       "      <td>60</td>\n",
       "      <td>1400.0</td>\n",
       "      <td>NaN</td>\n",
       "      <td>NaN</td>\n",
       "    </tr>\n",
       "    <tr>\n",
       "      <th>Casa</th>\n",
       "      <td>Centro</td>\n",
       "      <td>5</td>\n",
       "      <td>0</td>\n",
       "      <td>1</td>\n",
       "      <td>160</td>\n",
       "      <td>5000.0</td>\n",
       "      <td>NaN</td>\n",
       "      <td>80.0</td>\n",
       "    </tr>\n",
       "  </tbody>\n",
       "</table>\n",
       "<p>967 rows × 8 columns</p>\n",
       "</div>"
      ],
      "text/plain": [
       "                        Bairro  Quartos  Vagas  Suites  Area    Valor  \\\n",
       "Tipo                                                                    \n",
       "Casa           Jardim Botânico        2      0       1   100   7000.0   \n",
       "Casa              Campo Grande        4      1       2   400  12000.0   \n",
       "Casa                     Méier        2      0       0    51   1500.0   \n",
       "Casa               São Conrado        4      2       4   730  28000.0   \n",
       "Casa                  Maracanã        8      3       5   259   7000.0   \n",
       "...                        ...      ...    ...     ...   ...      ...   \n",
       "Casa             Vila da Penha        2      1       0    80   1500.0   \n",
       "Casa              Campo Grande        1      0       0    50    600.0   \n",
       "Casa  Recreio dos Bandeirantes        4      2       2   352   6500.0   \n",
       "Casa             Bento Ribeiro        2      1       0    60   1400.0   \n",
       "Casa                    Centro        5      0       1   160   5000.0   \n",
       "\n",
       "      Condominio     IPTU  \n",
       "Tipo                       \n",
       "Casa         NaN      NaN  \n",
       "Casa         NaN      NaN  \n",
       "Casa        50.0      NaN  \n",
       "Casa      2000.0  12000.0  \n",
       "Casa         NaN      NaN  \n",
       "...          ...      ...  \n",
       "Casa         NaN      NaN  \n",
       "Casa         NaN      NaN  \n",
       "Casa         NaN      NaN  \n",
       "Casa         NaN      NaN  \n",
       "Casa         NaN     80.0  \n",
       "\n",
       "[967 rows x 8 columns]"
      ]
     },
     "execution_count": 275,
     "metadata": {},
     "output_type": "execute_result"
    }
   ],
   "source": [
    "data_frame.loc['Casa']\n"
   ]
  },
  {
   "cell_type": "code",
   "execution_count": 276,
   "id": "3cfdd99c",
   "metadata": {},
   "outputs": [
    {
     "data": {
      "text/html": [
       "<div>\n",
       "<style scoped>\n",
       "    .dataframe tbody tr th:only-of-type {\n",
       "        vertical-align: middle;\n",
       "    }\n",
       "\n",
       "    .dataframe tbody tr th {\n",
       "        vertical-align: top;\n",
       "    }\n",
       "\n",
       "    .dataframe thead th {\n",
       "        text-align: right;\n",
       "    }\n",
       "</style>\n",
       "<table border=\"1\" class=\"dataframe\">\n",
       "  <thead>\n",
       "    <tr style=\"text-align: right;\">\n",
       "      <th></th>\n",
       "      <th>Bairro</th>\n",
       "      <th>Quartos</th>\n",
       "      <th>Vagas</th>\n",
       "      <th>Suites</th>\n",
       "      <th>Area</th>\n",
       "      <th>Valor</th>\n",
       "      <th>Condominio</th>\n",
       "      <th>IPTU</th>\n",
       "    </tr>\n",
       "    <tr>\n",
       "      <th>Tipo</th>\n",
       "      <th></th>\n",
       "      <th></th>\n",
       "      <th></th>\n",
       "      <th></th>\n",
       "      <th></th>\n",
       "      <th></th>\n",
       "      <th></th>\n",
       "      <th></th>\n",
       "    </tr>\n",
       "  </thead>\n",
       "  <tbody>\n",
       "    <tr>\n",
       "      <th>Casa</th>\n",
       "      <td>Jardim Botânico</td>\n",
       "      <td>2</td>\n",
       "      <td>0</td>\n",
       "      <td>1</td>\n",
       "      <td>100</td>\n",
       "      <td>7000.0</td>\n",
       "      <td>NaN</td>\n",
       "      <td>NaN</td>\n",
       "    </tr>\n",
       "    <tr>\n",
       "      <th>Casa</th>\n",
       "      <td>Campo Grande</td>\n",
       "      <td>4</td>\n",
       "      <td>1</td>\n",
       "      <td>2</td>\n",
       "      <td>400</td>\n",
       "      <td>12000.0</td>\n",
       "      <td>NaN</td>\n",
       "      <td>NaN</td>\n",
       "    </tr>\n",
       "    <tr>\n",
       "      <th>Casa</th>\n",
       "      <td>Méier</td>\n",
       "      <td>2</td>\n",
       "      <td>0</td>\n",
       "      <td>0</td>\n",
       "      <td>51</td>\n",
       "      <td>1500.0</td>\n",
       "      <td>50.0</td>\n",
       "      <td>NaN</td>\n",
       "    </tr>\n",
       "    <tr>\n",
       "      <th>Casa</th>\n",
       "      <td>São Conrado</td>\n",
       "      <td>4</td>\n",
       "      <td>2</td>\n",
       "      <td>4</td>\n",
       "      <td>730</td>\n",
       "      <td>28000.0</td>\n",
       "      <td>2000.0</td>\n",
       "      <td>12000.0</td>\n",
       "    </tr>\n",
       "    <tr>\n",
       "      <th>Casa</th>\n",
       "      <td>Maracanã</td>\n",
       "      <td>8</td>\n",
       "      <td>3</td>\n",
       "      <td>5</td>\n",
       "      <td>259</td>\n",
       "      <td>7000.0</td>\n",
       "      <td>NaN</td>\n",
       "      <td>NaN</td>\n",
       "    </tr>\n",
       "    <tr>\n",
       "      <th>...</th>\n",
       "      <td>...</td>\n",
       "      <td>...</td>\n",
       "      <td>...</td>\n",
       "      <td>...</td>\n",
       "      <td>...</td>\n",
       "      <td>...</td>\n",
       "      <td>...</td>\n",
       "      <td>...</td>\n",
       "    </tr>\n",
       "    <tr>\n",
       "      <th>Apartamento</th>\n",
       "      <td>Vila Valqueire</td>\n",
       "      <td>2</td>\n",
       "      <td>0</td>\n",
       "      <td>0</td>\n",
       "      <td>52</td>\n",
       "      <td>1000.0</td>\n",
       "      <td>550.0</td>\n",
       "      <td>NaN</td>\n",
       "    </tr>\n",
       "    <tr>\n",
       "      <th>Apartamento</th>\n",
       "      <td>Méier</td>\n",
       "      <td>2</td>\n",
       "      <td>0</td>\n",
       "      <td>0</td>\n",
       "      <td>70</td>\n",
       "      <td>900.0</td>\n",
       "      <td>490.0</td>\n",
       "      <td>48.0</td>\n",
       "    </tr>\n",
       "    <tr>\n",
       "      <th>Apartamento</th>\n",
       "      <td>Jacarepaguá</td>\n",
       "      <td>3</td>\n",
       "      <td>1</td>\n",
       "      <td>2</td>\n",
       "      <td>78</td>\n",
       "      <td>1800.0</td>\n",
       "      <td>800.0</td>\n",
       "      <td>40.0</td>\n",
       "    </tr>\n",
       "    <tr>\n",
       "      <th>Apartamento</th>\n",
       "      <td>São Francisco Xavier</td>\n",
       "      <td>2</td>\n",
       "      <td>1</td>\n",
       "      <td>0</td>\n",
       "      <td>48</td>\n",
       "      <td>1400.0</td>\n",
       "      <td>509.0</td>\n",
       "      <td>37.0</td>\n",
       "    </tr>\n",
       "    <tr>\n",
       "      <th>Apartamento</th>\n",
       "      <td>Leblon</td>\n",
       "      <td>2</td>\n",
       "      <td>0</td>\n",
       "      <td>0</td>\n",
       "      <td>70</td>\n",
       "      <td>3000.0</td>\n",
       "      <td>760.0</td>\n",
       "      <td>NaN</td>\n",
       "    </tr>\n",
       "  </tbody>\n",
       "</table>\n",
       "<p>20499 rows × 8 columns</p>\n",
       "</div>"
      ],
      "text/plain": [
       "                           Bairro  Quartos  Vagas  Suites  Area    Valor  \\\n",
       "Tipo                                                                       \n",
       "Casa              Jardim Botânico        2      0       1   100   7000.0   \n",
       "Casa                 Campo Grande        4      1       2   400  12000.0   \n",
       "Casa                        Méier        2      0       0    51   1500.0   \n",
       "Casa                  São Conrado        4      2       4   730  28000.0   \n",
       "Casa                     Maracanã        8      3       5   259   7000.0   \n",
       "...                           ...      ...    ...     ...   ...      ...   \n",
       "Apartamento        Vila Valqueire        2      0       0    52   1000.0   \n",
       "Apartamento                 Méier        2      0       0    70    900.0   \n",
       "Apartamento           Jacarepaguá        3      1       2    78   1800.0   \n",
       "Apartamento  São Francisco Xavier        2      1       0    48   1400.0   \n",
       "Apartamento                Leblon        2      0       0    70   3000.0   \n",
       "\n",
       "             Condominio     IPTU  \n",
       "Tipo                              \n",
       "Casa                NaN      NaN  \n",
       "Casa                NaN      NaN  \n",
       "Casa               50.0      NaN  \n",
       "Casa             2000.0  12000.0  \n",
       "Casa                NaN      NaN  \n",
       "...                 ...      ...  \n",
       "Apartamento       550.0      NaN  \n",
       "Apartamento       490.0     48.0  \n",
       "Apartamento       800.0     40.0  \n",
       "Apartamento       509.0     37.0  \n",
       "Apartamento       760.0      NaN  \n",
       "\n",
       "[20499 rows x 8 columns]"
      ]
     },
     "execution_count": 276,
     "metadata": {},
     "output_type": "execute_result"
    }
   ],
   "source": [
    "data_frame.loc[['Casa','Apartamento']]\n"
   ]
  },
  {
   "cell_type": "code",
   "execution_count": 277,
   "id": "ac804851",
   "metadata": {},
   "outputs": [
    {
     "data": {
      "text/html": [
       "<div>\n",
       "<style scoped>\n",
       "    .dataframe tbody tr th:only-of-type {\n",
       "        vertical-align: middle;\n",
       "    }\n",
       "\n",
       "    .dataframe tbody tr th {\n",
       "        vertical-align: top;\n",
       "    }\n",
       "\n",
       "    .dataframe thead th {\n",
       "        text-align: right;\n",
       "    }\n",
       "</style>\n",
       "<table border=\"1\" class=\"dataframe\">\n",
       "  <thead>\n",
       "    <tr style=\"text-align: right;\">\n",
       "      <th></th>\n",
       "      <th>Vagas</th>\n",
       "      <th>Suites</th>\n",
       "    </tr>\n",
       "    <tr>\n",
       "      <th>Tipo</th>\n",
       "      <th></th>\n",
       "      <th></th>\n",
       "    </tr>\n",
       "  </thead>\n",
       "  <tbody>\n",
       "    <tr>\n",
       "      <th>Casa</th>\n",
       "      <td>0</td>\n",
       "      <td>1</td>\n",
       "    </tr>\n",
       "    <tr>\n",
       "      <th>Casa</th>\n",
       "      <td>1</td>\n",
       "      <td>2</td>\n",
       "    </tr>\n",
       "    <tr>\n",
       "      <th>Casa</th>\n",
       "      <td>0</td>\n",
       "      <td>0</td>\n",
       "    </tr>\n",
       "    <tr>\n",
       "      <th>Casa</th>\n",
       "      <td>2</td>\n",
       "      <td>4</td>\n",
       "    </tr>\n",
       "    <tr>\n",
       "      <th>Casa</th>\n",
       "      <td>3</td>\n",
       "      <td>5</td>\n",
       "    </tr>\n",
       "    <tr>\n",
       "      <th>...</th>\n",
       "      <td>...</td>\n",
       "      <td>...</td>\n",
       "    </tr>\n",
       "    <tr>\n",
       "      <th>Apartamento</th>\n",
       "      <td>0</td>\n",
       "      <td>0</td>\n",
       "    </tr>\n",
       "    <tr>\n",
       "      <th>Apartamento</th>\n",
       "      <td>0</td>\n",
       "      <td>0</td>\n",
       "    </tr>\n",
       "    <tr>\n",
       "      <th>Apartamento</th>\n",
       "      <td>1</td>\n",
       "      <td>2</td>\n",
       "    </tr>\n",
       "    <tr>\n",
       "      <th>Apartamento</th>\n",
       "      <td>1</td>\n",
       "      <td>0</td>\n",
       "    </tr>\n",
       "    <tr>\n",
       "      <th>Apartamento</th>\n",
       "      <td>0</td>\n",
       "      <td>0</td>\n",
       "    </tr>\n",
       "  </tbody>\n",
       "</table>\n",
       "<p>20499 rows × 2 columns</p>\n",
       "</div>"
      ],
      "text/plain": [
       "             Vagas  Suites\n",
       "Tipo                      \n",
       "Casa             0       1\n",
       "Casa             1       2\n",
       "Casa             0       0\n",
       "Casa             2       4\n",
       "Casa             3       5\n",
       "...            ...     ...\n",
       "Apartamento      0       0\n",
       "Apartamento      0       0\n",
       "Apartamento      1       2\n",
       "Apartamento      1       0\n",
       "Apartamento      0       0\n",
       "\n",
       "[20499 rows x 2 columns]"
      ]
     },
     "execution_count": 277,
     "metadata": {},
     "output_type": "execute_result"
    }
   ],
   "source": [
    "data_frame.loc[['Casa','Apartamento'],['Vagas','Suites']]\n"
   ]
  },
  {
   "cell_type": "code",
   "execution_count": 278,
   "id": "843786aa",
   "metadata": {},
   "outputs": [
    {
     "data": {
      "text/html": [
       "<div>\n",
       "<style scoped>\n",
       "    .dataframe tbody tr th:only-of-type {\n",
       "        vertical-align: middle;\n",
       "    }\n",
       "\n",
       "    .dataframe tbody tr th {\n",
       "        vertical-align: top;\n",
       "    }\n",
       "\n",
       "    .dataframe thead th {\n",
       "        text-align: right;\n",
       "    }\n",
       "</style>\n",
       "<table border=\"1\" class=\"dataframe\">\n",
       "  <thead>\n",
       "    <tr style=\"text-align: right;\">\n",
       "      <th></th>\n",
       "      <th>Vagas</th>\n",
       "      <th>Suites</th>\n",
       "    </tr>\n",
       "    <tr>\n",
       "      <th>Tipo</th>\n",
       "      <th></th>\n",
       "      <th></th>\n",
       "    </tr>\n",
       "  </thead>\n",
       "  <tbody>\n",
       "    <tr>\n",
       "      <th>Quitinete</th>\n",
       "      <td>0</td>\n",
       "      <td>0</td>\n",
       "    </tr>\n",
       "    <tr>\n",
       "      <th>Casa</th>\n",
       "      <td>0</td>\n",
       "      <td>1</td>\n",
       "    </tr>\n",
       "    <tr>\n",
       "      <th>Conjunto Comercial/Sala</th>\n",
       "      <td>4</td>\n",
       "      <td>0</td>\n",
       "    </tr>\n",
       "    <tr>\n",
       "      <th>Apartamento</th>\n",
       "      <td>0</td>\n",
       "      <td>0</td>\n",
       "    </tr>\n",
       "    <tr>\n",
       "      <th>Apartamento</th>\n",
       "      <td>0</td>\n",
       "      <td>0</td>\n",
       "    </tr>\n",
       "    <tr>\n",
       "      <th>...</th>\n",
       "      <td>...</td>\n",
       "      <td>...</td>\n",
       "    </tr>\n",
       "    <tr>\n",
       "      <th>Quitinete</th>\n",
       "      <td>0</td>\n",
       "      <td>0</td>\n",
       "    </tr>\n",
       "    <tr>\n",
       "      <th>Apartamento</th>\n",
       "      <td>1</td>\n",
       "      <td>2</td>\n",
       "    </tr>\n",
       "    <tr>\n",
       "      <th>Apartamento</th>\n",
       "      <td>1</td>\n",
       "      <td>0</td>\n",
       "    </tr>\n",
       "    <tr>\n",
       "      <th>Apartamento</th>\n",
       "      <td>0</td>\n",
       "      <td>0</td>\n",
       "    </tr>\n",
       "    <tr>\n",
       "      <th>Conjunto Comercial/Sala</th>\n",
       "      <td>0</td>\n",
       "      <td>0</td>\n",
       "    </tr>\n",
       "  </tbody>\n",
       "</table>\n",
       "<p>32960 rows × 2 columns</p>\n",
       "</div>"
      ],
      "text/plain": [
       "                         Vagas  Suites\n",
       "Tipo                                  \n",
       "Quitinete                    0       0\n",
       "Casa                         0       1\n",
       "Conjunto Comercial/Sala      4       0\n",
       "Apartamento                  0       0\n",
       "Apartamento                  0       0\n",
       "...                        ...     ...\n",
       "Quitinete                    0       0\n",
       "Apartamento                  1       2\n",
       "Apartamento                  1       0\n",
       "Apartamento                  0       0\n",
       "Conjunto Comercial/Sala      0       0\n",
       "\n",
       "[32960 rows x 2 columns]"
      ]
     },
     "execution_count": 278,
     "metadata": {},
     "output_type": "execute_result"
    }
   ],
   "source": [
    "data_frame.loc[:,['Vagas','Suites']]\n"
   ]
  },
  {
   "cell_type": "markdown",
   "id": "9a15ddf4",
   "metadata": {},
   "source": [
    "## Utilizando .iloc para seleções\n",
    "\n",
    "**Observação:** Seleciona com base nos índices, ou seja, se baseia na posição das informações.\n",
    "\n",
    "\n"
   ]
  },
  {
   "cell_type": "code",
   "execution_count": 279,
   "id": "f9c723a7",
   "metadata": {},
   "outputs": [
    {
     "data": {
      "text/plain": [
       "Bairro        Jardim Botânico\n",
       "Quartos                     2\n",
       "Vagas                       0\n",
       "Suites                      1\n",
       "Area                      100\n",
       "Valor                  7000.0\n",
       "Condominio                NaN\n",
       "IPTU                      NaN\n",
       "Name: Casa, dtype: object"
      ]
     },
     "execution_count": 279,
     "metadata": {},
     "output_type": "execute_result"
    }
   ],
   "source": [
    "data_frame.iloc[1]\n"
   ]
  },
  {
   "cell_type": "code",
   "execution_count": 280,
   "id": "17d6ebb7",
   "metadata": {},
   "outputs": [
    {
     "data": {
      "text/html": [
       "<div>\n",
       "<style scoped>\n",
       "    .dataframe tbody tr th:only-of-type {\n",
       "        vertical-align: middle;\n",
       "    }\n",
       "\n",
       "    .dataframe tbody tr th {\n",
       "        vertical-align: top;\n",
       "    }\n",
       "\n",
       "    .dataframe thead th {\n",
       "        text-align: right;\n",
       "    }\n",
       "</style>\n",
       "<table border=\"1\" class=\"dataframe\">\n",
       "  <thead>\n",
       "    <tr style=\"text-align: right;\">\n",
       "      <th></th>\n",
       "      <th>Bairro</th>\n",
       "      <th>Quartos</th>\n",
       "      <th>Vagas</th>\n",
       "      <th>Suites</th>\n",
       "      <th>Area</th>\n",
       "      <th>Valor</th>\n",
       "      <th>Condominio</th>\n",
       "      <th>IPTU</th>\n",
       "    </tr>\n",
       "    <tr>\n",
       "      <th>Tipo</th>\n",
       "      <th></th>\n",
       "      <th></th>\n",
       "      <th></th>\n",
       "      <th></th>\n",
       "      <th></th>\n",
       "      <th></th>\n",
       "      <th></th>\n",
       "      <th></th>\n",
       "    </tr>\n",
       "  </thead>\n",
       "  <tbody>\n",
       "    <tr>\n",
       "      <th>Casa</th>\n",
       "      <td>Jardim Botânico</td>\n",
       "      <td>2</td>\n",
       "      <td>0</td>\n",
       "      <td>1</td>\n",
       "      <td>100</td>\n",
       "      <td>7000.0</td>\n",
       "      <td>NaN</td>\n",
       "      <td>NaN</td>\n",
       "    </tr>\n",
       "  </tbody>\n",
       "</table>\n",
       "</div>"
      ],
      "text/plain": [
       "               Bairro  Quartos  Vagas  Suites  Area   Valor  Condominio  IPTU\n",
       "Tipo                                                                         \n",
       "Casa  Jardim Botânico        2      0       1   100  7000.0         NaN   NaN"
      ]
     },
     "execution_count": 280,
     "metadata": {},
     "output_type": "execute_result"
    }
   ],
   "source": [
    "data_frame.iloc[[1]]\n"
   ]
  },
  {
   "cell_type": "code",
   "execution_count": 281,
   "id": "07495706",
   "metadata": {},
   "outputs": [
    {
     "data": {
      "text/html": [
       "<div>\n",
       "<style scoped>\n",
       "    .dataframe tbody tr th:only-of-type {\n",
       "        vertical-align: middle;\n",
       "    }\n",
       "\n",
       "    .dataframe tbody tr th {\n",
       "        vertical-align: top;\n",
       "    }\n",
       "\n",
       "    .dataframe thead th {\n",
       "        text-align: right;\n",
       "    }\n",
       "</style>\n",
       "<table border=\"1\" class=\"dataframe\">\n",
       "  <thead>\n",
       "    <tr style=\"text-align: right;\">\n",
       "      <th></th>\n",
       "      <th>Bairro</th>\n",
       "      <th>Quartos</th>\n",
       "      <th>Vagas</th>\n",
       "      <th>Suites</th>\n",
       "      <th>Area</th>\n",
       "      <th>Valor</th>\n",
       "      <th>Condominio</th>\n",
       "      <th>IPTU</th>\n",
       "    </tr>\n",
       "    <tr>\n",
       "      <th>Tipo</th>\n",
       "      <th></th>\n",
       "      <th></th>\n",
       "      <th></th>\n",
       "      <th></th>\n",
       "      <th></th>\n",
       "      <th></th>\n",
       "      <th></th>\n",
       "      <th></th>\n",
       "    </tr>\n",
       "  </thead>\n",
       "  <tbody>\n",
       "    <tr>\n",
       "      <th>Casa</th>\n",
       "      <td>Jardim Botânico</td>\n",
       "      <td>2</td>\n",
       "      <td>0</td>\n",
       "      <td>1</td>\n",
       "      <td>100</td>\n",
       "      <td>7000.0</td>\n",
       "      <td>NaN</td>\n",
       "      <td>NaN</td>\n",
       "    </tr>\n",
       "    <tr>\n",
       "      <th>Conjunto Comercial/Sala</th>\n",
       "      <td>Barra da Tijuca</td>\n",
       "      <td>0</td>\n",
       "      <td>4</td>\n",
       "      <td>0</td>\n",
       "      <td>150</td>\n",
       "      <td>5200.0</td>\n",
       "      <td>4020.0</td>\n",
       "      <td>1111.0</td>\n",
       "    </tr>\n",
       "    <tr>\n",
       "      <th>Apartamento</th>\n",
       "      <td>Centro</td>\n",
       "      <td>1</td>\n",
       "      <td>0</td>\n",
       "      <td>0</td>\n",
       "      <td>15</td>\n",
       "      <td>800.0</td>\n",
       "      <td>390.0</td>\n",
       "      <td>20.0</td>\n",
       "    </tr>\n",
       "  </tbody>\n",
       "</table>\n",
       "</div>"
      ],
      "text/plain": [
       "                                  Bairro  Quartos  Vagas  Suites  Area  \\\n",
       "Tipo                                                                     \n",
       "Casa                     Jardim Botânico        2      0       1   100   \n",
       "Conjunto Comercial/Sala  Barra da Tijuca        0      4       0   150   \n",
       "Apartamento                       Centro        1      0       0    15   \n",
       "\n",
       "                          Valor  Condominio    IPTU  \n",
       "Tipo                                                 \n",
       "Casa                     7000.0         NaN     NaN  \n",
       "Conjunto Comercial/Sala  5200.0      4020.0  1111.0  \n",
       "Apartamento               800.0       390.0    20.0  "
      ]
     },
     "execution_count": 281,
     "metadata": {},
     "output_type": "execute_result"
    }
   ],
   "source": [
    "data_frame.iloc[1:4]\n"
   ]
  },
  {
   "cell_type": "code",
   "execution_count": 282,
   "id": "9a565542",
   "metadata": {},
   "outputs": [
    {
     "data": {
      "text/html": [
       "<div>\n",
       "<style scoped>\n",
       "    .dataframe tbody tr th:only-of-type {\n",
       "        vertical-align: middle;\n",
       "    }\n",
       "\n",
       "    .dataframe tbody tr th {\n",
       "        vertical-align: top;\n",
       "    }\n",
       "\n",
       "    .dataframe thead th {\n",
       "        text-align: right;\n",
       "    }\n",
       "</style>\n",
       "<table border=\"1\" class=\"dataframe\">\n",
       "  <thead>\n",
       "    <tr style=\"text-align: right;\">\n",
       "      <th></th>\n",
       "      <th>Bairro</th>\n",
       "      <th>Valor</th>\n",
       "      <th>Vagas</th>\n",
       "    </tr>\n",
       "    <tr>\n",
       "      <th>Tipo</th>\n",
       "      <th></th>\n",
       "      <th></th>\n",
       "      <th></th>\n",
       "    </tr>\n",
       "  </thead>\n",
       "  <tbody>\n",
       "    <tr>\n",
       "      <th>Casa</th>\n",
       "      <td>Jardim Botânico</td>\n",
       "      <td>7000.0</td>\n",
       "      <td>0</td>\n",
       "    </tr>\n",
       "    <tr>\n",
       "      <th>Conjunto Comercial/Sala</th>\n",
       "      <td>Barra da Tijuca</td>\n",
       "      <td>5200.0</td>\n",
       "      <td>4</td>\n",
       "    </tr>\n",
       "    <tr>\n",
       "      <th>Apartamento</th>\n",
       "      <td>Centro</td>\n",
       "      <td>800.0</td>\n",
       "      <td>0</td>\n",
       "    </tr>\n",
       "  </tbody>\n",
       "</table>\n",
       "</div>"
      ],
      "text/plain": [
       "                                  Bairro   Valor  Vagas\n",
       "Tipo                                                   \n",
       "Casa                     Jardim Botânico  7000.0      0\n",
       "Conjunto Comercial/Sala  Barra da Tijuca  5200.0      4\n",
       "Apartamento                       Centro   800.0      0"
      ]
     },
     "execution_count": 282,
     "metadata": {},
     "output_type": "execute_result"
    }
   ],
   "source": [
    "data_frame.iloc[1:4,[0,5,2]]\n"
   ]
  },
  {
   "cell_type": "code",
   "execution_count": 283,
   "id": "09586b9e",
   "metadata": {},
   "outputs": [
    {
     "data": {
      "text/html": [
       "<div>\n",
       "<style scoped>\n",
       "    .dataframe tbody tr th:only-of-type {\n",
       "        vertical-align: middle;\n",
       "    }\n",
       "\n",
       "    .dataframe tbody tr th {\n",
       "        vertical-align: top;\n",
       "    }\n",
       "\n",
       "    .dataframe thead th {\n",
       "        text-align: right;\n",
       "    }\n",
       "</style>\n",
       "<table border=\"1\" class=\"dataframe\">\n",
       "  <thead>\n",
       "    <tr style=\"text-align: right;\">\n",
       "      <th></th>\n",
       "      <th>Bairro</th>\n",
       "      <th>Valor</th>\n",
       "      <th>Vagas</th>\n",
       "    </tr>\n",
       "    <tr>\n",
       "      <th>Tipo</th>\n",
       "      <th></th>\n",
       "      <th></th>\n",
       "      <th></th>\n",
       "    </tr>\n",
       "  </thead>\n",
       "  <tbody>\n",
       "    <tr>\n",
       "      <th>Casa</th>\n",
       "      <td>Jardim Botânico</td>\n",
       "      <td>7000.0</td>\n",
       "      <td>0</td>\n",
       "    </tr>\n",
       "    <tr>\n",
       "      <th>Apartamento</th>\n",
       "      <td>Olaria</td>\n",
       "      <td>1000.0</td>\n",
       "      <td>1</td>\n",
       "    </tr>\n",
       "    <tr>\n",
       "      <th>Conjunto Comercial/Sala</th>\n",
       "      <td>Recreio dos Bandeirantes</td>\n",
       "      <td>1500.0</td>\n",
       "      <td>1</td>\n",
       "    </tr>\n",
       "  </tbody>\n",
       "</table>\n",
       "</div>"
      ],
      "text/plain": [
       "                                           Bairro   Valor  Vagas\n",
       "Tipo                                                            \n",
       "Casa                              Jardim Botânico  7000.0      0\n",
       "Apartamento                                Olaria  1000.0      1\n",
       "Conjunto Comercial/Sala  Recreio dos Bandeirantes  1500.0      1"
      ]
     },
     "execution_count": 283,
     "metadata": {},
     "output_type": "execute_result"
    }
   ],
   "source": [
    "data_frame.iloc[[1,23,42],[0,5,2]]\n"
   ]
  },
  {
   "cell_type": "markdown",
   "id": "1ff7f704",
   "metadata": {},
   "source": [
    "# 5.3 Queries com DataFrames\n"
   ]
  },
  {
   "cell_type": "code",
   "execution_count": 284,
   "id": "a3f13231",
   "metadata": {},
   "outputs": [
    {
     "data": {
      "text/html": [
       "<div>\n",
       "<style scoped>\n",
       "    .dataframe tbody tr th:only-of-type {\n",
       "        vertical-align: middle;\n",
       "    }\n",
       "\n",
       "    .dataframe tbody tr th {\n",
       "        vertical-align: top;\n",
       "    }\n",
       "\n",
       "    .dataframe thead th {\n",
       "        text-align: right;\n",
       "    }\n",
       "</style>\n",
       "<table border=\"1\" class=\"dataframe\">\n",
       "  <thead>\n",
       "    <tr style=\"text-align: right;\">\n",
       "      <th></th>\n",
       "      <th>Bairro</th>\n",
       "      <th>Quartos</th>\n",
       "      <th>Vagas</th>\n",
       "      <th>Suites</th>\n",
       "      <th>Area</th>\n",
       "      <th>Valor</th>\n",
       "      <th>Condominio</th>\n",
       "      <th>IPTU</th>\n",
       "    </tr>\n",
       "    <tr>\n",
       "      <th>Tipo</th>\n",
       "      <th></th>\n",
       "      <th></th>\n",
       "      <th></th>\n",
       "      <th></th>\n",
       "      <th></th>\n",
       "      <th></th>\n",
       "      <th></th>\n",
       "      <th></th>\n",
       "    </tr>\n",
       "  </thead>\n",
       "  <tbody>\n",
       "    <tr>\n",
       "      <th>Quitinete</th>\n",
       "      <td>Copacabana</td>\n",
       "      <td>1</td>\n",
       "      <td>0</td>\n",
       "      <td>0</td>\n",
       "      <td>40</td>\n",
       "      <td>1700.0</td>\n",
       "      <td>500.0</td>\n",
       "      <td>60.0</td>\n",
       "    </tr>\n",
       "    <tr>\n",
       "      <th>Casa</th>\n",
       "      <td>Jardim Botânico</td>\n",
       "      <td>2</td>\n",
       "      <td>0</td>\n",
       "      <td>1</td>\n",
       "      <td>100</td>\n",
       "      <td>7000.0</td>\n",
       "      <td>NaN</td>\n",
       "      <td>NaN</td>\n",
       "    </tr>\n",
       "    <tr>\n",
       "      <th>Conjunto Comercial/Sala</th>\n",
       "      <td>Barra da Tijuca</td>\n",
       "      <td>0</td>\n",
       "      <td>4</td>\n",
       "      <td>0</td>\n",
       "      <td>150</td>\n",
       "      <td>5200.0</td>\n",
       "      <td>4020.0</td>\n",
       "      <td>1111.0</td>\n",
       "    </tr>\n",
       "    <tr>\n",
       "      <th>Apartamento</th>\n",
       "      <td>Centro</td>\n",
       "      <td>1</td>\n",
       "      <td>0</td>\n",
       "      <td>0</td>\n",
       "      <td>15</td>\n",
       "      <td>800.0</td>\n",
       "      <td>390.0</td>\n",
       "      <td>20.0</td>\n",
       "    </tr>\n",
       "    <tr>\n",
       "      <th>Apartamento</th>\n",
       "      <td>Higienópolis</td>\n",
       "      <td>1</td>\n",
       "      <td>0</td>\n",
       "      <td>0</td>\n",
       "      <td>48</td>\n",
       "      <td>800.0</td>\n",
       "      <td>230.0</td>\n",
       "      <td>NaN</td>\n",
       "    </tr>\n",
       "  </tbody>\n",
       "</table>\n",
       "</div>"
      ],
      "text/plain": [
       "                                  Bairro  Quartos  Vagas  Suites  Area  \\\n",
       "Tipo                                                                     \n",
       "Quitinete                     Copacabana        1      0       0    40   \n",
       "Casa                     Jardim Botânico        2      0       1   100   \n",
       "Conjunto Comercial/Sala  Barra da Tijuca        0      4       0   150   \n",
       "Apartamento                       Centro        1      0       0    15   \n",
       "Apartamento                 Higienópolis        1      0       0    48   \n",
       "\n",
       "                          Valor  Condominio    IPTU  \n",
       "Tipo                                                 \n",
       "Quitinete                1700.0       500.0    60.0  \n",
       "Casa                     7000.0         NaN     NaN  \n",
       "Conjunto Comercial/Sala  5200.0      4020.0  1111.0  \n",
       "Apartamento               800.0       390.0    20.0  \n",
       "Apartamento               800.0       230.0     NaN  "
      ]
     },
     "execution_count": 284,
     "metadata": {},
     "output_type": "execute_result"
    }
   ],
   "source": [
    "data_frame.head()\n"
   ]
  },
  {
   "cell_type": "code",
   "execution_count": 285,
   "id": "e7f91f05",
   "metadata": {},
   "outputs": [
    {
     "data": {
      "text/plain": [
       "Tipo\n",
       "Quitinete                   True\n",
       "Casa                       False\n",
       "Conjunto Comercial/Sala    False\n",
       "Apartamento                False\n",
       "Apartamento                False\n",
       "                           ...  \n",
       "Quitinete                  False\n",
       "Apartamento                False\n",
       "Apartamento                False\n",
       "Apartamento                False\n",
       "Conjunto Comercial/Sala    False\n",
       "Name: Bairro, Length: 32960, dtype: bool"
      ]
     },
     "execution_count": 285,
     "metadata": {},
     "output_type": "execute_result"
    }
   ],
   "source": [
    "data_frame.Bairro==\"Copacabana\"\n"
   ]
  },
  {
   "cell_type": "code",
   "execution_count": 286,
   "id": "13118c2b",
   "metadata": {},
   "outputs": [],
   "source": [
    "casa_bairro = data_frame.Bairro=='Copacabana'\n"
   ]
  },
  {
   "cell_type": "code",
   "execution_count": 287,
   "id": "12e1edf1",
   "metadata": {},
   "outputs": [
    {
     "data": {
      "text/html": [
       "<div>\n",
       "<style scoped>\n",
       "    .dataframe tbody tr th:only-of-type {\n",
       "        vertical-align: middle;\n",
       "    }\n",
       "\n",
       "    .dataframe tbody tr th {\n",
       "        vertical-align: top;\n",
       "    }\n",
       "\n",
       "    .dataframe thead th {\n",
       "        text-align: right;\n",
       "    }\n",
       "</style>\n",
       "<table border=\"1\" class=\"dataframe\">\n",
       "  <thead>\n",
       "    <tr style=\"text-align: right;\">\n",
       "      <th></th>\n",
       "      <th>Bairro</th>\n",
       "      <th>Quartos</th>\n",
       "      <th>Vagas</th>\n",
       "      <th>Suites</th>\n",
       "      <th>Area</th>\n",
       "      <th>Valor</th>\n",
       "      <th>Condominio</th>\n",
       "      <th>IPTU</th>\n",
       "    </tr>\n",
       "    <tr>\n",
       "      <th>Tipo</th>\n",
       "      <th></th>\n",
       "      <th></th>\n",
       "      <th></th>\n",
       "      <th></th>\n",
       "      <th></th>\n",
       "      <th></th>\n",
       "      <th></th>\n",
       "      <th></th>\n",
       "    </tr>\n",
       "  </thead>\n",
       "  <tbody>\n",
       "    <tr>\n",
       "      <th>Quitinete</th>\n",
       "      <td>Copacabana</td>\n",
       "      <td>1</td>\n",
       "      <td>0</td>\n",
       "      <td>0</td>\n",
       "      <td>40</td>\n",
       "      <td>1700.0</td>\n",
       "      <td>500.0</td>\n",
       "      <td>60.0</td>\n",
       "    </tr>\n",
       "    <tr>\n",
       "      <th>Apartamento</th>\n",
       "      <td>Copacabana</td>\n",
       "      <td>1</td>\n",
       "      <td>0</td>\n",
       "      <td>1</td>\n",
       "      <td>40</td>\n",
       "      <td>2000.0</td>\n",
       "      <td>561.0</td>\n",
       "      <td>50.0</td>\n",
       "    </tr>\n",
       "    <tr>\n",
       "      <th>Quitinete</th>\n",
       "      <td>Copacabana</td>\n",
       "      <td>1</td>\n",
       "      <td>0</td>\n",
       "      <td>0</td>\n",
       "      <td>27</td>\n",
       "      <td>1800.0</td>\n",
       "      <td>501.0</td>\n",
       "      <td>NaN</td>\n",
       "    </tr>\n",
       "    <tr>\n",
       "      <th>Apartamento</th>\n",
       "      <td>Copacabana</td>\n",
       "      <td>4</td>\n",
       "      <td>3</td>\n",
       "      <td>1</td>\n",
       "      <td>243</td>\n",
       "      <td>13000.0</td>\n",
       "      <td>2000.0</td>\n",
       "      <td>803.0</td>\n",
       "    </tr>\n",
       "    <tr>\n",
       "      <th>Apartamento</th>\n",
       "      <td>Copacabana</td>\n",
       "      <td>3</td>\n",
       "      <td>1</td>\n",
       "      <td>2</td>\n",
       "      <td>378</td>\n",
       "      <td>10000.0</td>\n",
       "      <td>2150.0</td>\n",
       "      <td>700.0</td>\n",
       "    </tr>\n",
       "  </tbody>\n",
       "</table>\n",
       "</div>"
      ],
      "text/plain": [
       "                 Bairro  Quartos  Vagas  Suites  Area    Valor  Condominio  \\\n",
       "Tipo                                                                         \n",
       "Quitinete    Copacabana        1      0       0    40   1700.0       500.0   \n",
       "Apartamento  Copacabana        1      0       1    40   2000.0       561.0   \n",
       "Quitinete    Copacabana        1      0       0    27   1800.0       501.0   \n",
       "Apartamento  Copacabana        4      3       1   243  13000.0      2000.0   \n",
       "Apartamento  Copacabana        3      1       2   378  10000.0      2150.0   \n",
       "\n",
       "              IPTU  \n",
       "Tipo                \n",
       "Quitinete     60.0  \n",
       "Apartamento   50.0  \n",
       "Quitinete      NaN  \n",
       "Apartamento  803.0  \n",
       "Apartamento  700.0  "
      ]
     },
     "execution_count": 287,
     "metadata": {},
     "output_type": "execute_result"
    }
   ],
   "source": [
    "data_frame[casa_bairro].head()\n"
   ]
  },
  {
   "cell_type": "code",
   "execution_count": 288,
   "id": "af700e26",
   "metadata": {},
   "outputs": [
    {
     "data": {
      "text/html": [
       "<div>\n",
       "<style scoped>\n",
       "    .dataframe tbody tr th:only-of-type {\n",
       "        vertical-align: middle;\n",
       "    }\n",
       "\n",
       "    .dataframe tbody tr th {\n",
       "        vertical-align: top;\n",
       "    }\n",
       "\n",
       "    .dataframe thead th {\n",
       "        text-align: right;\n",
       "    }\n",
       "</style>\n",
       "<table border=\"1\" class=\"dataframe\">\n",
       "  <thead>\n",
       "    <tr style=\"text-align: right;\">\n",
       "      <th></th>\n",
       "      <th>Bairro</th>\n",
       "      <th>Quartos</th>\n",
       "      <th>Vagas</th>\n",
       "      <th>Suites</th>\n",
       "      <th>Area</th>\n",
       "      <th>Valor</th>\n",
       "      <th>Condominio</th>\n",
       "      <th>IPTU</th>\n",
       "    </tr>\n",
       "    <tr>\n",
       "      <th>Tipo</th>\n",
       "      <th></th>\n",
       "      <th></th>\n",
       "      <th></th>\n",
       "      <th></th>\n",
       "      <th></th>\n",
       "      <th></th>\n",
       "      <th></th>\n",
       "      <th></th>\n",
       "    </tr>\n",
       "  </thead>\n",
       "  <tbody>\n",
       "  </tbody>\n",
       "</table>\n",
       "</div>"
      ],
      "text/plain": [
       "Empty DataFrame\n",
       "Columns: [Bairro, Quartos, Vagas, Suites, Area, Valor, Condominio, IPTU]\n",
       "Index: []"
      ]
     },
     "execution_count": 288,
     "metadata": {},
     "output_type": "execute_result"
    }
   ],
   "source": [
    "data_frame[ (data_frame.Bairro=='Copacabana') & (data_frame.Bairro==True) ]\n",
    "\n",
    "# vazio pois (data_frame.Bairro==True) não tem conrrespondência "
   ]
  },
  {
   "cell_type": "markdown",
   "id": "d5e7b185",
   "metadata": {},
   "source": [
    "## Utilizando o método query\n"
   ]
  },
  {
   "cell_type": "code",
   "execution_count": 289,
   "id": "700d88f1",
   "metadata": {
    "scrolled": true
   },
   "outputs": [
    {
     "data": {
      "text/html": [
       "<div>\n",
       "<style scoped>\n",
       "    .dataframe tbody tr th:only-of-type {\n",
       "        vertical-align: middle;\n",
       "    }\n",
       "\n",
       "    .dataframe tbody tr th {\n",
       "        vertical-align: top;\n",
       "    }\n",
       "\n",
       "    .dataframe thead th {\n",
       "        text-align: right;\n",
       "    }\n",
       "</style>\n",
       "<table border=\"1\" class=\"dataframe\">\n",
       "  <thead>\n",
       "    <tr style=\"text-align: right;\">\n",
       "      <th></th>\n",
       "      <th>Bairro</th>\n",
       "      <th>Quartos</th>\n",
       "      <th>Vagas</th>\n",
       "      <th>Suites</th>\n",
       "      <th>Area</th>\n",
       "      <th>Valor</th>\n",
       "      <th>Condominio</th>\n",
       "      <th>IPTU</th>\n",
       "    </tr>\n",
       "    <tr>\n",
       "      <th>Tipo</th>\n",
       "      <th></th>\n",
       "      <th></th>\n",
       "      <th></th>\n",
       "      <th></th>\n",
       "      <th></th>\n",
       "      <th></th>\n",
       "      <th></th>\n",
       "      <th></th>\n",
       "    </tr>\n",
       "  </thead>\n",
       "  <tbody>\n",
       "    <tr>\n",
       "      <th>Quitinete</th>\n",
       "      <td>Copacabana</td>\n",
       "      <td>1</td>\n",
       "      <td>0</td>\n",
       "      <td>0</td>\n",
       "      <td>40</td>\n",
       "      <td>1700.0</td>\n",
       "      <td>500.0</td>\n",
       "      <td>60.0</td>\n",
       "    </tr>\n",
       "    <tr>\n",
       "      <th>Apartamento</th>\n",
       "      <td>Copacabana</td>\n",
       "      <td>1</td>\n",
       "      <td>0</td>\n",
       "      <td>1</td>\n",
       "      <td>40</td>\n",
       "      <td>2000.0</td>\n",
       "      <td>561.0</td>\n",
       "      <td>50.0</td>\n",
       "    </tr>\n",
       "    <tr>\n",
       "      <th>Quitinete</th>\n",
       "      <td>Copacabana</td>\n",
       "      <td>1</td>\n",
       "      <td>0</td>\n",
       "      <td>0</td>\n",
       "      <td>27</td>\n",
       "      <td>1800.0</td>\n",
       "      <td>501.0</td>\n",
       "      <td>NaN</td>\n",
       "    </tr>\n",
       "    <tr>\n",
       "      <th>Apartamento</th>\n",
       "      <td>Copacabana</td>\n",
       "      <td>4</td>\n",
       "      <td>3</td>\n",
       "      <td>1</td>\n",
       "      <td>243</td>\n",
       "      <td>13000.0</td>\n",
       "      <td>2000.0</td>\n",
       "      <td>803.0</td>\n",
       "    </tr>\n",
       "    <tr>\n",
       "      <th>Apartamento</th>\n",
       "      <td>Copacabana</td>\n",
       "      <td>3</td>\n",
       "      <td>1</td>\n",
       "      <td>2</td>\n",
       "      <td>378</td>\n",
       "      <td>10000.0</td>\n",
       "      <td>2150.0</td>\n",
       "      <td>700.0</td>\n",
       "    </tr>\n",
       "    <tr>\n",
       "      <th>...</th>\n",
       "      <td>...</td>\n",
       "      <td>...</td>\n",
       "      <td>...</td>\n",
       "      <td>...</td>\n",
       "      <td>...</td>\n",
       "      <td>...</td>\n",
       "      <td>...</td>\n",
       "      <td>...</td>\n",
       "    </tr>\n",
       "    <tr>\n",
       "      <th>Apartamento</th>\n",
       "      <td>Copacabana</td>\n",
       "      <td>1</td>\n",
       "      <td>0</td>\n",
       "      <td>0</td>\n",
       "      <td>60</td>\n",
       "      <td>2400.0</td>\n",
       "      <td>530.0</td>\n",
       "      <td>78.0</td>\n",
       "    </tr>\n",
       "    <tr>\n",
       "      <th>Apartamento</th>\n",
       "      <td>Copacabana</td>\n",
       "      <td>2</td>\n",
       "      <td>0</td>\n",
       "      <td>0</td>\n",
       "      <td>67</td>\n",
       "      <td>2450.0</td>\n",
       "      <td>679.0</td>\n",
       "      <td>80.0</td>\n",
       "    </tr>\n",
       "    <tr>\n",
       "      <th>Apartamento</th>\n",
       "      <td>Copacabana</td>\n",
       "      <td>2</td>\n",
       "      <td>0</td>\n",
       "      <td>1</td>\n",
       "      <td>70</td>\n",
       "      <td>4100.0</td>\n",
       "      <td>700.0</td>\n",
       "      <td>90.0</td>\n",
       "    </tr>\n",
       "    <tr>\n",
       "      <th>Apartamento</th>\n",
       "      <td>Copacabana</td>\n",
       "      <td>1</td>\n",
       "      <td>0</td>\n",
       "      <td>0</td>\n",
       "      <td>50</td>\n",
       "      <td>1950.0</td>\n",
       "      <td>450.0</td>\n",
       "      <td>70.0</td>\n",
       "    </tr>\n",
       "    <tr>\n",
       "      <th>Quitinete</th>\n",
       "      <td>Copacabana</td>\n",
       "      <td>1</td>\n",
       "      <td>0</td>\n",
       "      <td>0</td>\n",
       "      <td>22</td>\n",
       "      <td>1500.0</td>\n",
       "      <td>286.0</td>\n",
       "      <td>200.0</td>\n",
       "    </tr>\n",
       "  </tbody>\n",
       "</table>\n",
       "<p>3186 rows × 8 columns</p>\n",
       "</div>"
      ],
      "text/plain": [
       "                 Bairro  Quartos  Vagas  Suites  Area    Valor  Condominio  \\\n",
       "Tipo                                                                         \n",
       "Quitinete    Copacabana        1      0       0    40   1700.0       500.0   \n",
       "Apartamento  Copacabana        1      0       1    40   2000.0       561.0   \n",
       "Quitinete    Copacabana        1      0       0    27   1800.0       501.0   \n",
       "Apartamento  Copacabana        4      3       1   243  13000.0      2000.0   \n",
       "Apartamento  Copacabana        3      1       2   378  10000.0      2150.0   \n",
       "...                 ...      ...    ...     ...   ...      ...         ...   \n",
       "Apartamento  Copacabana        1      0       0    60   2400.0       530.0   \n",
       "Apartamento  Copacabana        2      0       0    67   2450.0       679.0   \n",
       "Apartamento  Copacabana        2      0       1    70   4100.0       700.0   \n",
       "Apartamento  Copacabana        1      0       0    50   1950.0       450.0   \n",
       "Quitinete    Copacabana        1      0       0    22   1500.0       286.0   \n",
       "\n",
       "              IPTU  \n",
       "Tipo                \n",
       "Quitinete     60.0  \n",
       "Apartamento   50.0  \n",
       "Quitinete      NaN  \n",
       "Apartamento  803.0  \n",
       "Apartamento  700.0  \n",
       "...            ...  \n",
       "Apartamento   78.0  \n",
       "Apartamento   80.0  \n",
       "Apartamento   90.0  \n",
       "Apartamento   70.0  \n",
       "Quitinete    200.0  \n",
       "\n",
       "[3186 rows x 8 columns]"
      ]
     },
     "execution_count": 289,
     "metadata": {},
     "output_type": "execute_result"
    }
   ],
   "source": [
    "data_frame.query('Bairro == \"Copacabana\"')\n"
   ]
  },
  {
   "cell_type": "code",
   "execution_count": 290,
   "id": "8d16e12b",
   "metadata": {},
   "outputs": [
    {
     "data": {
      "text/html": [
       "<div>\n",
       "<style scoped>\n",
       "    .dataframe tbody tr th:only-of-type {\n",
       "        vertical-align: middle;\n",
       "    }\n",
       "\n",
       "    .dataframe tbody tr th {\n",
       "        vertical-align: top;\n",
       "    }\n",
       "\n",
       "    .dataframe thead th {\n",
       "        text-align: right;\n",
       "    }\n",
       "</style>\n",
       "<table border=\"1\" class=\"dataframe\">\n",
       "  <thead>\n",
       "    <tr style=\"text-align: right;\">\n",
       "      <th></th>\n",
       "      <th>Bairro</th>\n",
       "      <th>Quartos</th>\n",
       "      <th>Vagas</th>\n",
       "      <th>Suites</th>\n",
       "      <th>Area</th>\n",
       "      <th>Valor</th>\n",
       "      <th>Condominio</th>\n",
       "      <th>IPTU</th>\n",
       "    </tr>\n",
       "    <tr>\n",
       "      <th>Tipo</th>\n",
       "      <th></th>\n",
       "      <th></th>\n",
       "      <th></th>\n",
       "      <th></th>\n",
       "      <th></th>\n",
       "      <th></th>\n",
       "      <th></th>\n",
       "      <th></th>\n",
       "    </tr>\n",
       "  </thead>\n",
       "  <tbody>\n",
       "  </tbody>\n",
       "</table>\n",
       "</div>"
      ],
      "text/plain": [
       "Empty DataFrame\n",
       "Columns: [Bairro, Quartos, Vagas, Suites, Area, Valor, Condominio, IPTU]\n",
       "Index: []"
      ]
     },
     "execution_count": 290,
     "metadata": {},
     "output_type": "execute_result"
    }
   ],
   "source": [
    "data_frame.query('Bairro==\"Copacabana\" and Bairro==True ')\n",
    "\n",
    "# Novamente não tem correspondência de true e false"
   ]
  },
  {
   "cell_type": "markdown",
   "id": "e3aa5d47",
   "metadata": {},
   "source": [
    "# 5.4 Tratamento de dados"
   ]
  },
  {
   "cell_type": "code",
   "execution_count": 299,
   "id": "b8a4cbf8",
   "metadata": {},
   "outputs": [
    {
     "name": "stdout",
     "output_type": "stream",
     "text": [
      "<class 'pandas.core.frame.DataFrame'>\n",
      "Index: 32960 entries, Quitinete to Conjunto Comercial/Sala\n",
      "Data columns (total 8 columns):\n",
      " #   Column      Non-Null Count  Dtype  \n",
      "---  ------      --------------  -----  \n",
      " 0   Bairro      32960 non-null  object \n",
      " 1   Quartos     32960 non-null  int64  \n",
      " 2   Vagas       32960 non-null  int64  \n",
      " 3   Suites      32960 non-null  int64  \n",
      " 4   Area        32960 non-null  int64  \n",
      " 5   Valor       32943 non-null  float64\n",
      " 6   Condominio  28867 non-null  float64\n",
      " 7   IPTU        22723 non-null  float64\n",
      "dtypes: float64(3), int64(4), object(1)\n",
      "memory usage: 3.3+ MB\n"
     ]
    }
   ],
   "source": [
    "data_frame.info()\n"
   ]
  },
  {
   "cell_type": "code",
   "execution_count": 300,
   "id": "ab385e15",
   "metadata": {},
   "outputs": [
    {
     "data": {
      "text/plain": [
       "Tipo\n",
       "Quitinete                  False\n",
       "Casa                       False\n",
       "Conjunto Comercial/Sala    False\n",
       "Apartamento                False\n",
       "Apartamento                False\n",
       "                           ...  \n",
       "Quitinete                  False\n",
       "Apartamento                False\n",
       "Apartamento                False\n",
       "Apartamento                False\n",
       "Conjunto Comercial/Sala    False\n",
       "Name: Quartos, Length: 32960, dtype: bool"
      ]
     },
     "execution_count": 300,
     "metadata": {},
     "output_type": "execute_result"
    }
   ],
   "source": [
    "\n",
    "data_frame.Quartos.isna()\n"
   ]
  },
  {
   "cell_type": "code",
   "execution_count": 302,
   "id": "0eeb7a8f",
   "metadata": {},
   "outputs": [
    {
     "data": {
      "text/html": [
       "<div>\n",
       "<style scoped>\n",
       "    .dataframe tbody tr th:only-of-type {\n",
       "        vertical-align: middle;\n",
       "    }\n",
       "\n",
       "    .dataframe tbody tr th {\n",
       "        vertical-align: top;\n",
       "    }\n",
       "\n",
       "    .dataframe thead th {\n",
       "        text-align: right;\n",
       "    }\n",
       "</style>\n",
       "<table border=\"1\" class=\"dataframe\">\n",
       "  <thead>\n",
       "    <tr style=\"text-align: right;\">\n",
       "      <th></th>\n",
       "      <th>Bairro</th>\n",
       "      <th>Quartos</th>\n",
       "      <th>Vagas</th>\n",
       "      <th>Suites</th>\n",
       "      <th>Area</th>\n",
       "      <th>Valor</th>\n",
       "      <th>Condominio</th>\n",
       "      <th>IPTU</th>\n",
       "    </tr>\n",
       "    <tr>\n",
       "      <th>Tipo</th>\n",
       "      <th></th>\n",
       "      <th></th>\n",
       "      <th></th>\n",
       "      <th></th>\n",
       "      <th></th>\n",
       "      <th></th>\n",
       "      <th></th>\n",
       "      <th></th>\n",
       "    </tr>\n",
       "  </thead>\n",
       "  <tbody>\n",
       "    <tr>\n",
       "      <th>Apartamento</th>\n",
       "      <td>Barra da Tijuca</td>\n",
       "      <td>2</td>\n",
       "      <td>1</td>\n",
       "      <td>1</td>\n",
       "      <td>70</td>\n",
       "      <td>NaN</td>\n",
       "      <td>970.0</td>\n",
       "      <td>68.0</td>\n",
       "    </tr>\n",
       "    <tr>\n",
       "      <th>Apartamento</th>\n",
       "      <td>Leme</td>\n",
       "      <td>2</td>\n",
       "      <td>0</td>\n",
       "      <td>0</td>\n",
       "      <td>75</td>\n",
       "      <td>NaN</td>\n",
       "      <td>878.0</td>\n",
       "      <td>NaN</td>\n",
       "    </tr>\n",
       "    <tr>\n",
       "      <th>Casa</th>\n",
       "      <td>Campo Grande</td>\n",
       "      <td>3</td>\n",
       "      <td>4</td>\n",
       "      <td>3</td>\n",
       "      <td>363</td>\n",
       "      <td>NaN</td>\n",
       "      <td>NaN</td>\n",
       "      <td>NaN</td>\n",
       "    </tr>\n",
       "    <tr>\n",
       "      <th>Loja/Salão</th>\n",
       "      <td>Barra da Tijuca</td>\n",
       "      <td>0</td>\n",
       "      <td>2</td>\n",
       "      <td>0</td>\n",
       "      <td>80</td>\n",
       "      <td>NaN</td>\n",
       "      <td>NaN</td>\n",
       "      <td>NaN</td>\n",
       "    </tr>\n",
       "    <tr>\n",
       "      <th>Apartamento</th>\n",
       "      <td>Botafogo</td>\n",
       "      <td>2</td>\n",
       "      <td>0</td>\n",
       "      <td>0</td>\n",
       "      <td>95</td>\n",
       "      <td>NaN</td>\n",
       "      <td>1010.0</td>\n",
       "      <td>170.0</td>\n",
       "    </tr>\n",
       "    <tr>\n",
       "      <th>Apartamento</th>\n",
       "      <td>Copacabana</td>\n",
       "      <td>2</td>\n",
       "      <td>0</td>\n",
       "      <td>0</td>\n",
       "      <td>72</td>\n",
       "      <td>NaN</td>\n",
       "      <td>850.0</td>\n",
       "      <td>NaN</td>\n",
       "    </tr>\n",
       "    <tr>\n",
       "      <th>Loja/Salão</th>\n",
       "      <td>Andaraí</td>\n",
       "      <td>0</td>\n",
       "      <td>0</td>\n",
       "      <td>0</td>\n",
       "      <td>326</td>\n",
       "      <td>NaN</td>\n",
       "      <td>NaN</td>\n",
       "      <td>1140.0</td>\n",
       "    </tr>\n",
       "    <tr>\n",
       "      <th>Casa</th>\n",
       "      <td>Campo Grande</td>\n",
       "      <td>3</td>\n",
       "      <td>2</td>\n",
       "      <td>1</td>\n",
       "      <td>100</td>\n",
       "      <td>NaN</td>\n",
       "      <td>NaN</td>\n",
       "      <td>NaN</td>\n",
       "    </tr>\n",
       "    <tr>\n",
       "      <th>Apartamento</th>\n",
       "      <td>Leme</td>\n",
       "      <td>2</td>\n",
       "      <td>0</td>\n",
       "      <td>1</td>\n",
       "      <td>75</td>\n",
       "      <td>NaN</td>\n",
       "      <td>878.0</td>\n",
       "      <td>NaN</td>\n",
       "    </tr>\n",
       "    <tr>\n",
       "      <th>Apartamento</th>\n",
       "      <td>Glória</td>\n",
       "      <td>3</td>\n",
       "      <td>0</td>\n",
       "      <td>1</td>\n",
       "      <td>135</td>\n",
       "      <td>NaN</td>\n",
       "      <td>910.0</td>\n",
       "      <td>228.0</td>\n",
       "    </tr>\n",
       "    <tr>\n",
       "      <th>Apartamento</th>\n",
       "      <td>Gávea</td>\n",
       "      <td>3</td>\n",
       "      <td>1</td>\n",
       "      <td>1</td>\n",
       "      <td>105</td>\n",
       "      <td>NaN</td>\n",
       "      <td>880.0</td>\n",
       "      <td>221.0</td>\n",
       "    </tr>\n",
       "    <tr>\n",
       "      <th>Conjunto Comercial/Sala</th>\n",
       "      <td>Botafogo</td>\n",
       "      <td>0</td>\n",
       "      <td>3</td>\n",
       "      <td>0</td>\n",
       "      <td>200</td>\n",
       "      <td>NaN</td>\n",
       "      <td>10.0</td>\n",
       "      <td>NaN</td>\n",
       "    </tr>\n",
       "    <tr>\n",
       "      <th>Conjunto Comercial/Sala</th>\n",
       "      <td>Freguesia (Jacarepaguá)</td>\n",
       "      <td>0</td>\n",
       "      <td>1</td>\n",
       "      <td>0</td>\n",
       "      <td>24</td>\n",
       "      <td>NaN</td>\n",
       "      <td>500.0</td>\n",
       "      <td>74.0</td>\n",
       "    </tr>\n",
       "    <tr>\n",
       "      <th>Loja Shopping/ Ct Comercial</th>\n",
       "      <td>Barra da Tijuca</td>\n",
       "      <td>0</td>\n",
       "      <td>2</td>\n",
       "      <td>0</td>\n",
       "      <td>77</td>\n",
       "      <td>NaN</td>\n",
       "      <td>3600.0</td>\n",
       "      <td>1390.0</td>\n",
       "    </tr>\n",
       "    <tr>\n",
       "      <th>Conjunto Comercial/Sala</th>\n",
       "      <td>Botafogo</td>\n",
       "      <td>0</td>\n",
       "      <td>0</td>\n",
       "      <td>0</td>\n",
       "      <td>900</td>\n",
       "      <td>NaN</td>\n",
       "      <td>10.0</td>\n",
       "      <td>NaN</td>\n",
       "    </tr>\n",
       "    <tr>\n",
       "      <th>Conjunto Comercial/Sala</th>\n",
       "      <td>Botafogo</td>\n",
       "      <td>0</td>\n",
       "      <td>0</td>\n",
       "      <td>0</td>\n",
       "      <td>500</td>\n",
       "      <td>NaN</td>\n",
       "      <td>10.0</td>\n",
       "      <td>NaN</td>\n",
       "    </tr>\n",
       "    <tr>\n",
       "      <th>Conjunto Comercial/Sala</th>\n",
       "      <td>Botafogo</td>\n",
       "      <td>0</td>\n",
       "      <td>1</td>\n",
       "      <td>0</td>\n",
       "      <td>50</td>\n",
       "      <td>NaN</td>\n",
       "      <td>10.0</td>\n",
       "      <td>NaN</td>\n",
       "    </tr>\n",
       "  </tbody>\n",
       "</table>\n",
       "</div>"
      ],
      "text/plain": [
       "                                              Bairro  Quartos  Vagas  Suites  \\\n",
       "Tipo                                                                           \n",
       "Apartamento                          Barra da Tijuca        2      1       1   \n",
       "Apartamento                                     Leme        2      0       0   \n",
       "Casa                                    Campo Grande        3      4       3   \n",
       "Loja/Salão                           Barra da Tijuca        0      2       0   \n",
       "Apartamento                                 Botafogo        2      0       0   \n",
       "Apartamento                               Copacabana        2      0       0   \n",
       "Loja/Salão                                   Andaraí        0      0       0   \n",
       "Casa                                    Campo Grande        3      2       1   \n",
       "Apartamento                                     Leme        2      0       1   \n",
       "Apartamento                                   Glória        3      0       1   \n",
       "Apartamento                                    Gávea        3      1       1   \n",
       "Conjunto Comercial/Sala                     Botafogo        0      3       0   \n",
       "Conjunto Comercial/Sala      Freguesia (Jacarepaguá)        0      1       0   \n",
       "Loja Shopping/ Ct Comercial          Barra da Tijuca        0      2       0   \n",
       "Conjunto Comercial/Sala                     Botafogo        0      0       0   \n",
       "Conjunto Comercial/Sala                     Botafogo        0      0       0   \n",
       "Conjunto Comercial/Sala                     Botafogo        0      1       0   \n",
       "\n",
       "                             Area  Valor  Condominio    IPTU  \n",
       "Tipo                                                          \n",
       "Apartamento                    70    NaN       970.0    68.0  \n",
       "Apartamento                    75    NaN       878.0     NaN  \n",
       "Casa                          363    NaN         NaN     NaN  \n",
       "Loja/Salão                     80    NaN         NaN     NaN  \n",
       "Apartamento                    95    NaN      1010.0   170.0  \n",
       "Apartamento                    72    NaN       850.0     NaN  \n",
       "Loja/Salão                    326    NaN         NaN  1140.0  \n",
       "Casa                          100    NaN         NaN     NaN  \n",
       "Apartamento                    75    NaN       878.0     NaN  \n",
       "Apartamento                   135    NaN       910.0   228.0  \n",
       "Apartamento                   105    NaN       880.0   221.0  \n",
       "Conjunto Comercial/Sala       200    NaN        10.0     NaN  \n",
       "Conjunto Comercial/Sala        24    NaN       500.0    74.0  \n",
       "Loja Shopping/ Ct Comercial    77    NaN      3600.0  1390.0  \n",
       "Conjunto Comercial/Sala       900    NaN        10.0     NaN  \n",
       "Conjunto Comercial/Sala       500    NaN        10.0     NaN  \n",
       "Conjunto Comercial/Sala        50    NaN        10.0     NaN  "
      ]
     },
     "execution_count": 302,
     "metadata": {},
     "output_type": "execute_result"
    }
   ],
   "source": [
    "data_frame[data_frame.Valor.isna()]\n"
   ]
  },
  {
   "cell_type": "code",
   "execution_count": 304,
   "id": "62d29cea",
   "metadata": {},
   "outputs": [
    {
     "data": {
      "text/html": [
       "<div>\n",
       "<style scoped>\n",
       "    .dataframe tbody tr th:only-of-type {\n",
       "        vertical-align: middle;\n",
       "    }\n",
       "\n",
       "    .dataframe tbody tr th {\n",
       "        vertical-align: top;\n",
       "    }\n",
       "\n",
       "    .dataframe thead th {\n",
       "        text-align: right;\n",
       "    }\n",
       "</style>\n",
       "<table border=\"1\" class=\"dataframe\">\n",
       "  <thead>\n",
       "    <tr style=\"text-align: right;\">\n",
       "      <th></th>\n",
       "      <th>Bairro</th>\n",
       "      <th>Quartos</th>\n",
       "      <th>Vagas</th>\n",
       "      <th>Suites</th>\n",
       "      <th>Area</th>\n",
       "      <th>Valor</th>\n",
       "      <th>Condominio</th>\n",
       "      <th>IPTU</th>\n",
       "    </tr>\n",
       "    <tr>\n",
       "      <th>Tipo</th>\n",
       "      <th></th>\n",
       "      <th></th>\n",
       "      <th></th>\n",
       "      <th></th>\n",
       "      <th></th>\n",
       "      <th></th>\n",
       "      <th></th>\n",
       "      <th></th>\n",
       "    </tr>\n",
       "  </thead>\n",
       "  <tbody>\n",
       "    <tr>\n",
       "      <th>Quitinete</th>\n",
       "      <td>Copacabana</td>\n",
       "      <td>1</td>\n",
       "      <td>0</td>\n",
       "      <td>0</td>\n",
       "      <td>40</td>\n",
       "      <td>1700.0</td>\n",
       "      <td>500.0</td>\n",
       "      <td>60.0</td>\n",
       "    </tr>\n",
       "    <tr>\n",
       "      <th>Casa</th>\n",
       "      <td>Jardim Botânico</td>\n",
       "      <td>2</td>\n",
       "      <td>0</td>\n",
       "      <td>1</td>\n",
       "      <td>100</td>\n",
       "      <td>7000.0</td>\n",
       "      <td>0.0</td>\n",
       "      <td>0.0</td>\n",
       "    </tr>\n",
       "    <tr>\n",
       "      <th>Conjunto Comercial/Sala</th>\n",
       "      <td>Barra da Tijuca</td>\n",
       "      <td>0</td>\n",
       "      <td>4</td>\n",
       "      <td>0</td>\n",
       "      <td>150</td>\n",
       "      <td>5200.0</td>\n",
       "      <td>4020.0</td>\n",
       "      <td>1111.0</td>\n",
       "    </tr>\n",
       "    <tr>\n",
       "      <th>Apartamento</th>\n",
       "      <td>Centro</td>\n",
       "      <td>1</td>\n",
       "      <td>0</td>\n",
       "      <td>0</td>\n",
       "      <td>15</td>\n",
       "      <td>800.0</td>\n",
       "      <td>390.0</td>\n",
       "      <td>20.0</td>\n",
       "    </tr>\n",
       "    <tr>\n",
       "      <th>Apartamento</th>\n",
       "      <td>Higienópolis</td>\n",
       "      <td>1</td>\n",
       "      <td>0</td>\n",
       "      <td>0</td>\n",
       "      <td>48</td>\n",
       "      <td>800.0</td>\n",
       "      <td>230.0</td>\n",
       "      <td>0.0</td>\n",
       "    </tr>\n",
       "    <tr>\n",
       "      <th>...</th>\n",
       "      <td>...</td>\n",
       "      <td>...</td>\n",
       "      <td>...</td>\n",
       "      <td>...</td>\n",
       "      <td>...</td>\n",
       "      <td>...</td>\n",
       "      <td>...</td>\n",
       "      <td>...</td>\n",
       "    </tr>\n",
       "    <tr>\n",
       "      <th>Quitinete</th>\n",
       "      <td>Centro</td>\n",
       "      <td>0</td>\n",
       "      <td>0</td>\n",
       "      <td>0</td>\n",
       "      <td>27</td>\n",
       "      <td>800.0</td>\n",
       "      <td>350.0</td>\n",
       "      <td>25.0</td>\n",
       "    </tr>\n",
       "    <tr>\n",
       "      <th>Apartamento</th>\n",
       "      <td>Jacarepaguá</td>\n",
       "      <td>3</td>\n",
       "      <td>1</td>\n",
       "      <td>2</td>\n",
       "      <td>78</td>\n",
       "      <td>1800.0</td>\n",
       "      <td>800.0</td>\n",
       "      <td>40.0</td>\n",
       "    </tr>\n",
       "    <tr>\n",
       "      <th>Apartamento</th>\n",
       "      <td>São Francisco Xavier</td>\n",
       "      <td>2</td>\n",
       "      <td>1</td>\n",
       "      <td>0</td>\n",
       "      <td>48</td>\n",
       "      <td>1400.0</td>\n",
       "      <td>509.0</td>\n",
       "      <td>37.0</td>\n",
       "    </tr>\n",
       "    <tr>\n",
       "      <th>Apartamento</th>\n",
       "      <td>Leblon</td>\n",
       "      <td>2</td>\n",
       "      <td>0</td>\n",
       "      <td>0</td>\n",
       "      <td>70</td>\n",
       "      <td>3000.0</td>\n",
       "      <td>760.0</td>\n",
       "      <td>0.0</td>\n",
       "    </tr>\n",
       "    <tr>\n",
       "      <th>Conjunto Comercial/Sala</th>\n",
       "      <td>Centro</td>\n",
       "      <td>0</td>\n",
       "      <td>0</td>\n",
       "      <td>0</td>\n",
       "      <td>250</td>\n",
       "      <td>6500.0</td>\n",
       "      <td>4206.0</td>\n",
       "      <td>1109.0</td>\n",
       "    </tr>\n",
       "  </tbody>\n",
       "</table>\n",
       "<p>32960 rows × 8 columns</p>\n",
       "</div>"
      ],
      "text/plain": [
       "                                       Bairro  Quartos  Vagas  Suites  Area  \\\n",
       "Tipo                                                                          \n",
       "Quitinete                          Copacabana        1      0       0    40   \n",
       "Casa                          Jardim Botânico        2      0       1   100   \n",
       "Conjunto Comercial/Sala       Barra da Tijuca        0      4       0   150   \n",
       "Apartamento                            Centro        1      0       0    15   \n",
       "Apartamento                      Higienópolis        1      0       0    48   \n",
       "...                                       ...      ...    ...     ...   ...   \n",
       "Quitinete                              Centro        0      0       0    27   \n",
       "Apartamento                       Jacarepaguá        3      1       2    78   \n",
       "Apartamento              São Francisco Xavier        2      1       0    48   \n",
       "Apartamento                            Leblon        2      0       0    70   \n",
       "Conjunto Comercial/Sala                Centro        0      0       0   250   \n",
       "\n",
       "                          Valor  Condominio    IPTU  \n",
       "Tipo                                                 \n",
       "Quitinete                1700.0       500.0    60.0  \n",
       "Casa                     7000.0         0.0     0.0  \n",
       "Conjunto Comercial/Sala  5200.0      4020.0  1111.0  \n",
       "Apartamento               800.0       390.0    20.0  \n",
       "Apartamento               800.0       230.0     0.0  \n",
       "...                         ...         ...     ...  \n",
       "Quitinete                 800.0       350.0    25.0  \n",
       "Apartamento              1800.0       800.0    40.0  \n",
       "Apartamento              1400.0       509.0    37.0  \n",
       "Apartamento              3000.0       760.0     0.0  \n",
       "Conjunto Comercial/Sala  6500.0      4206.0  1109.0  \n",
       "\n",
       "[32960 rows x 8 columns]"
      ]
     },
     "execution_count": 304,
     "metadata": {},
     "output_type": "execute_result"
    }
   ],
   "source": [
    "data_frame.fillna(0,inplace=True)\n",
    "data_frame"
   ]
  },
  {
   "cell_type": "code",
   "execution_count": 307,
   "id": "46a6b7f9",
   "metadata": {},
   "outputs": [
    {
     "data": {
      "text/html": [
       "<div>\n",
       "<style scoped>\n",
       "    .dataframe tbody tr th:only-of-type {\n",
       "        vertical-align: middle;\n",
       "    }\n",
       "\n",
       "    .dataframe tbody tr th {\n",
       "        vertical-align: top;\n",
       "    }\n",
       "\n",
       "    .dataframe thead th {\n",
       "        text-align: right;\n",
       "    }\n",
       "</style>\n",
       "<table border=\"1\" class=\"dataframe\">\n",
       "  <thead>\n",
       "    <tr style=\"text-align: right;\">\n",
       "      <th></th>\n",
       "      <th>Bairro</th>\n",
       "      <th>Quartos</th>\n",
       "      <th>Vagas</th>\n",
       "      <th>Suites</th>\n",
       "      <th>Area</th>\n",
       "      <th>Valor</th>\n",
       "      <th>Condominio</th>\n",
       "      <th>IPTU</th>\n",
       "    </tr>\n",
       "    <tr>\n",
       "      <th>Tipo</th>\n",
       "      <th></th>\n",
       "      <th></th>\n",
       "      <th></th>\n",
       "      <th></th>\n",
       "      <th></th>\n",
       "      <th></th>\n",
       "      <th></th>\n",
       "      <th></th>\n",
       "    </tr>\n",
       "  </thead>\n",
       "  <tbody>\n",
       "    <tr>\n",
       "      <th>Casa</th>\n",
       "      <td>Jardim Botânico</td>\n",
       "      <td>2</td>\n",
       "      <td>0</td>\n",
       "      <td>1</td>\n",
       "      <td>100</td>\n",
       "      <td>7000.0</td>\n",
       "      <td>0.0</td>\n",
       "      <td>0.0</td>\n",
       "    </tr>\n",
       "    <tr>\n",
       "      <th>Apartamento</th>\n",
       "      <td>Lins de Vasconcelos</td>\n",
       "      <td>3</td>\n",
       "      <td>1</td>\n",
       "      <td>1</td>\n",
       "      <td>90</td>\n",
       "      <td>1500.0</td>\n",
       "      <td>455.0</td>\n",
       "      <td>14.0</td>\n",
       "    </tr>\n",
       "    <tr>\n",
       "      <th>Apartamento</th>\n",
       "      <td>Copacabana</td>\n",
       "      <td>1</td>\n",
       "      <td>0</td>\n",
       "      <td>1</td>\n",
       "      <td>40</td>\n",
       "      <td>2000.0</td>\n",
       "      <td>561.0</td>\n",
       "      <td>50.0</td>\n",
       "    </tr>\n",
       "    <tr>\n",
       "      <th>Apartamento</th>\n",
       "      <td>Copacabana</td>\n",
       "      <td>4</td>\n",
       "      <td>3</td>\n",
       "      <td>1</td>\n",
       "      <td>243</td>\n",
       "      <td>13000.0</td>\n",
       "      <td>2000.0</td>\n",
       "      <td>803.0</td>\n",
       "    </tr>\n",
       "    <tr>\n",
       "      <th>Flat</th>\n",
       "      <td>Botafogo</td>\n",
       "      <td>3</td>\n",
       "      <td>1</td>\n",
       "      <td>1</td>\n",
       "      <td>80</td>\n",
       "      <td>3800.0</td>\n",
       "      <td>1040.0</td>\n",
       "      <td>0.0</td>\n",
       "    </tr>\n",
       "  </tbody>\n",
       "</table>\n",
       "</div>"
      ],
      "text/plain": [
       "                          Bairro  Quartos  Vagas  Suites  Area    Valor  \\\n",
       "Tipo                                                                      \n",
       "Casa             Jardim Botânico        2      0       1   100   7000.0   \n",
       "Apartamento  Lins de Vasconcelos        3      1       1    90   1500.0   \n",
       "Apartamento           Copacabana        1      0       1    40   2000.0   \n",
       "Apartamento           Copacabana        4      3       1   243  13000.0   \n",
       "Flat                    Botafogo        3      1       1    80   3800.0   \n",
       "\n",
       "             Condominio   IPTU  \n",
       "Tipo                            \n",
       "Casa                0.0    0.0  \n",
       "Apartamento       455.0   14.0  \n",
       "Apartamento       561.0   50.0  \n",
       "Apartamento      2000.0  803.0  \n",
       "Flat             1040.0    0.0  "
      ]
     },
     "execution_count": 307,
     "metadata": {},
     "output_type": "execute_result"
    }
   ],
   "source": [
    "data_frame.query('Suites==True').head()\n"
   ]
  },
  {
   "cell_type": "code",
   "execution_count": null,
   "id": "8e27c705",
   "metadata": {},
   "outputs": [],
   "source": []
  }
 ],
 "metadata": {
  "kernelspec": {
   "display_name": "Python 3 (ipykernel)",
   "language": "python",
   "name": "python3"
  },
  "language_info": {
   "codemirror_mode": {
    "name": "ipython",
    "version": 3
   },
   "file_extension": ".py",
   "mimetype": "text/x-python",
   "name": "python",
   "nbconvert_exporter": "python",
   "pygments_lexer": "ipython3",
   "version": "3.9.7"
  }
 },
 "nbformat": 4,
 "nbformat_minor": 5
}
